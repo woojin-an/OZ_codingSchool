{
 "cells": [
  {
   "cell_type": "code",
   "execution_count": 26,
   "metadata": {},
   "outputs": [
    {
     "name": "stdout",
     "output_type": "stream",
     "text": [
      "10\n"
     ]
    },
    {
     "ename": "SyntaxError",
     "evalue": "'break' outside loop (3917664386.py, line 31)",
     "output_type": "error",
     "traceback": [
      "\u001b[0;36m  Cell \u001b[0;32mIn[26], line 31\u001b[0;36m\u001b[0m\n\u001b[0;31m    break\u001b[0m\n\u001b[0m    ^\u001b[0m\n\u001b[0;31mSyntaxError\u001b[0m\u001b[0;31m:\u001b[0m 'break' outside loop\n"
     ]
    }
   ],
   "source": [
    "import sys\n",
    "\n",
    "inventory = {\n",
    "  \"팥붕어빵\" : 10,\n",
    "  \"슈크림붕어빵\" : 8,\n",
    "  \"초코붕어빵\" : 5\n",
    "}\n",
    "\n",
    "현재재고 = input(f'재고를 알고싶은 항목을 입력하세요(팥붕어빵/슈크림붕어빵/초코붕어빵):')\n",
    "if 현재재고 not in inventory:\n",
    "\tprint(f\"'{현재재고}'는 유효하지 않은 항목입니다.\")\n",
    "\tsys.exit()\n",
    "else:\n",
    "\tprint(inventory[현재재고])\n",
    "\n",
    "주문내역 = {}\n",
    "주문내역 = input(f\"주문할 붕어빵 종류(팥붕어빵,슈크림붕어빵,초코붕어빵)와 갯수를 입력하세요 (예: 팥붕어빵,2):\")\n",
    "주문목록 = 주문내역.split(',')\n",
    "종류 = 주문목록[0].strip()\n",
    "\t\n",
    "if 종류 in [\"팥붕어빵\", \"슈크림붕어빵\", \"초코붕어빵\"]:\n",
    "\t수량 = int(주문목록[1].strip())\n",
    "\tprint(f\"주문 내역은 다음과 같습니다. 종류:{종류}, 수량:{수량}\")\n",
    "elif 종류 in [\"종료\"]:\n",
    "\tprint(f\"주문을 종료합니다.\")\n",
    "\n",
    "#관리자모드\n",
    "elif 종류 in [\"관리자모드\"]: \n",
    "\t수정내역 = input(f\"수정할 내역 또는 종료를 입력하세요. (예: 팥붕어빵,2)\")\n",
    "\tif 수정내역 == \"종료\":\n",
    "\t\tbreak\n",
    "\telse:\n",
    "\t\t수정목록 = 수정내역.split(',')\n",
    "\t\t수정종류 = 수정목록[0].strip()\n",
    "\t\tif 수정종류 in [\"팥붕어빵\", \"슈크림붕어빵\", \"초코붕어빵\"]:\n",
    "\t\t\t수정수량 = int(수정목록[1].strip())\n",
    "\t\t\t수정_진행 = input(f\"입력하신 내용은 {수정종류},{수정수량}개 입니다. 진행하시려면 1, 취소하시려면 2를 입력하세요.\")\n",
    "\t\t\tif 수정_진행 == 1:\n",
    "\t\t\t\tprint('OK')\n",
    "\t\t\telif 수정_진행 == 2:\n",
    "\t\t\t\tprint('Ok')\n",
    "\t\t\telse:\n",
    "\t\t\t\tprint(\"입력이 잘못되었습니다. 처음부터 다시 진행해주세요.\")\n",
    "\t\t\t\tbreak\n",
    "\t\telse:\n",
    "\t\t\tprint(f\"입력이 잘못되었습니다. 다시 확인해주세요.\")\n",
    "\t\t\tbreak\n",
    "#관리자모드\n",
    "else:\n",
    "\tprint(f\"유효하지 않은 주문입니다. 종류와 수량을 확인해주세요.\")\n",
    "\n",
    "if 종류 in inventory:\n",
    "\tif inventory[종류] >= 수량:\n",
    "\t\tinventory[종류] -= 수량\n",
    "\t\tprint(f\"{종류} {수량}개 주문해주셔서 감사합니다!\")\n",
    "\t\tprint(\"주문 후 재고\",inventory)\n",
    "\telse:\n",
    "\t\tprint(f\"죄송합니다. 재고가 부족하여 판매할 수 없습니다. 재고를 확인해주세요.\", inventory)\n",
    "else:\n",
    "\tprint(f\"유효하지 않은 주문입니다. 종류와 수량을 확인해주세요.\")\n"
   ]
  }
 ],
 "metadata": {
  "kernelspec": {
   "display_name": "Python 3",
   "language": "python",
   "name": "python3"
  },
  "language_info": {
   "codemirror_mode": {
    "name": "ipython",
    "version": 3
   },
   "file_extension": ".py",
   "mimetype": "text/x-python",
   "name": "python",
   "nbconvert_exporter": "python",
   "pygments_lexer": "ipython3",
   "version": "3.9.6"
  }
 },
 "nbformat": 4,
 "nbformat_minor": 2
}
