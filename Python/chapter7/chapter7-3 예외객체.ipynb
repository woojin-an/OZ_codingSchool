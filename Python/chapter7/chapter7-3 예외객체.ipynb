{
 "cells": [
  {
   "cell_type": "markdown",
   "metadata": {},
   "source": [
    "[예외객체]"
   ]
  },
  {
   "cell_type": "code",
   "execution_count": 2,
   "metadata": {},
   "outputs": [
    {
     "name": "stdout",
     "output_type": "stream",
     "text": [
      "type(exception):  <class 'ValueError'>\n",
      "type(exception):  invalid literal for int() with base 10: '3cm'\n"
     ]
    }
   ],
   "source": [
    "try:\n",
    "    x, y = map(int,input(\"밑변과 높이를 입력해주세요\").split(\" \"))\n",
    "    print(f\"삼각형의 넓이는 {x*y/2}입니다.\")\n",
    "except Exception as exception:\n",
    "    print(\"type(exception): \", type(exception))\n",
    "    print(\"type(exception): \", exception)\n"
   ]
  },
  {
   "cell_type": "markdown",
   "metadata": {},
   "source": [
    "예외객체 자료형은 Value Error 이고\n",
    "내용은 invalid literal for int() with base 10: '3cm' 입니다.\n",
    "\n",
    "[예외 구분하기]\n",
    "\n",
    "여러가지 예외가 발생하는 상황을 구분지어 대비하기 위함"
   ]
  },
  {
   "cell_type": "code",
   "execution_count": 5,
   "metadata": {},
   "outputs": [
    {
     "name": "stdout",
     "output_type": "stream",
     "text": [
      "type(exception):  <class 'IndexError'>\n",
      "type(exception):  list index out of range\n"
     ]
    }
   ],
   "source": [
    "numbers = [23,11,7,4,12]\n",
    "\n",
    "try:\n",
    "    number_input = int(input(\"찾고싶은 값의 위치를 입력해주세요\"))\n",
    "    print(f'{number_input}번째 요소 : {numbers[number_input]}')\n",
    "except Exception as exception:\n",
    "    print(\"type(exception): \", type(exception))\n",
    "    print(\"type(exception): \", exception)"
   ]
  },
  {
   "cell_type": "markdown",
   "metadata": {},
   "source": [
    "[except: list index out of range] 와 같은 에러를 구분하고 처리할 수 있는 기능을 제공함\n",
    "\n",
    ">try:\n",
    "    예외가 발생할 가능성이 있는 구문  \n",
    ">except 예외 a:\n",
    "    예외 a가 발생했을 때 실행할 구문\n",
    ">except 예외 b:\n",
    "    예외 b가 발생했을 때 실행할 구문\n",
    ">except 예외 c:\n",
    "    예외 c가 발생했을 때 실행할 구문\n"
   ]
  },
  {
   "cell_type": "code",
   "execution_count": 9,
   "metadata": {},
   "outputs": [
    {
     "name": "stdout",
     "output_type": "stream",
     "text": [
      "정수로 입력하세요\n"
     ]
    }
   ],
   "source": [
    "numbers = [23,11,7,4,12]\n",
    "\n",
    "try:\n",
    "    number_input = int(input(\"찾고싶은 값의 위치를 입력해주세요\"))\n",
    "    print(f'{number_input}번째 요소 : {numbers[number_input]}')\n",
    "except ValueError:\n",
    "    print(\"정수로 입력하세요\")\n",
    "except IndexError:\n",
    "    print(\"리스트의 범위를 벗어났습니다. 입력값을 다시 확인해주세요\")"
   ]
  },
  {
   "cell_type": "markdown",
   "metadata": {},
   "source": [
    "[예외 구분 구문과 예외 객체]\n",
    "\n",
    "as키워드를 이용해 as exception을 사용할 수 있음"
   ]
  },
  {
   "cell_type": "code",
   "execution_count": 11,
   "metadata": {},
   "outputs": [
    {
     "name": "stdout",
     "output_type": "stream",
     "text": [
      "정수로 입력하세요\n",
      "Exception:  invalid literal for int() with base 10: 'oz'\n"
     ]
    }
   ],
   "source": [
    "numbers = [23,11,7,4,12]\n",
    "\n",
    "try:\n",
    "    number_input = int(input(\"찾고싶은 값의 위치를 입력해주세요\"))\n",
    "    print(f'{number_input}번째 요소 : {numbers[number_input]}')\n",
    "except ValueError as exception:\n",
    "    print(\"정수로 입력하세요\")\n",
    "    print(\"Exception: \", exception)\n",
    "except IndexError as exception:\n",
    "    print(\"리스트의 범위를 벗어났습니다. 입력값을 다시 확인해주세요\")\n",
    "    print(\"Exception: \", exception)\n"
   ]
  },
  {
   "cell_type": "markdown",
   "metadata": {},
   "source": [
    "프로그램 실행 중 위 2가지 예외처리로 처리가 불가능한 경우를 대비해\n",
    "\n",
    "앞서 사용했던 모든 예외처리가 가능한 exception을 이용해 대처할 수 있음"
   ]
  },
  {
   "cell_type": "code",
   "execution_count": 13,
   "metadata": {},
   "outputs": [
    {
     "name": "stdout",
     "output_type": "stream",
     "text": [
      "3번째 요소 : 4\n",
      "대처 불가능한 예외가 발생했습니다.\n",
      "Exception:  name '에러' is not defined\n"
     ]
    }
   ],
   "source": [
    "numbers = [23,11,7,4,12]\n",
    "\n",
    "try:\n",
    "    number_input = int(input(\"찾고싶은 값의 위치를 입력해주세요\"))\n",
    "    print(f'{number_input}번째 요소 : {numbers[number_input]}')\n",
    "    에러\n",
    "except ValueError as exception:\n",
    "    print(\"정수로 입력하세요\")\n",
    "    print(\"Exception: \", exception)\n",
    "except IndexError as exception:\n",
    "    print(\"리스트의 범위를 벗어났습니다. 입력값을 다시 확인해주세요\")\n",
    "    print(\"Exception: \", exception)\n",
    "except Exception as exception:\n",
    "    print(\"대처 불가능한 예외가 발생했습니다.\")\n",
    "    print(\"Exception: \", exception)"
   ]
  },
  {
   "cell_type": "code",
   "execution_count": null,
   "metadata": {},
   "outputs": [],
   "source": []
  }
 ],
 "metadata": {
  "kernelspec": {
   "display_name": "Python 3",
   "language": "python",
   "name": "python3"
  },
  "language_info": {
   "codemirror_mode": {
    "name": "ipython",
    "version": 3
   },
   "file_extension": ".py",
   "mimetype": "text/x-python",
   "name": "python",
   "nbconvert_exporter": "python",
   "pygments_lexer": "ipython3",
   "version": "3.9.6"
  }
 },
 "nbformat": 4,
 "nbformat_minor": 2
}
