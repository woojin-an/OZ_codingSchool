{
 "cells": [
  {
   "cell_type": "markdown",
   "metadata": {},
   "source": [
    "[try except] 구문\n",
    "* 모든 예외처리 사항을 조건문으로 처리하는건 굉장히 어려움\n",
    "* try except 구문으로 예외처리 진행\n",
    "\n",
    "\n",
    "try except 구문 기본 구조\n",
    "> try:\n",
    "    예외가 발생할 가능성이 있는 코드  \n",
    "> except:\n",
    "    예외가 발생했을 때 실행할 코드"
   ]
  },
  {
   "cell_type": "markdown",
   "metadata": {},
   "source": [
    "[]"
   ]
  },
  {
   "cell_type": "code",
   "execution_count": 6,
   "metadata": {},
   "outputs": [
    {
     "ename": "ValueError",
     "evalue": "not enough values to unpack (expected 2, got 1)",
     "output_type": "error",
     "traceback": [
      "\u001b[0;31m---------------------------------------------------------------------------\u001b[0m",
      "\u001b[0;31mValueError\u001b[0m                                Traceback (most recent call last)",
      "Cell \u001b[0;32mIn[6], line 3\u001b[0m\n\u001b[1;32m      1\u001b[0m \u001b[38;5;66;03m# 조건문으로 예외처리한 코드\u001b[39;00m\n\u001b[1;32m      2\u001b[0m \u001b[38;5;66;03m# x = 3cm, y = 5cm\u001b[39;00m\n\u001b[0;32m----> 3\u001b[0m x, y \u001b[38;5;241m=\u001b[39m \u001b[38;5;28minput\u001b[39m(\u001b[38;5;124m\"\u001b[39m\u001b[38;5;124m밑변과 높이를 입력해주세요\u001b[39m\u001b[38;5;124m\"\u001b[39m)\u001b[38;5;241m.\u001b[39msplit(\u001b[38;5;124m\"\u001b[39m\u001b[38;5;124m \u001b[39m\u001b[38;5;124m\"\u001b[39m)\n\u001b[1;32m      4\u001b[0m \u001b[38;5;28;01mif\u001b[39;00m x\u001b[38;5;241m.\u001b[39misdigit() \u001b[38;5;129;01mand\u001b[39;00m y\u001b[38;5;241m.\u001b[39misdigit():\n\u001b[1;32m      5\u001b[0m     x, y \u001b[38;5;241m=\u001b[39m \u001b[38;5;28mint\u001b[39m(x), \u001b[38;5;28mint\u001b[39m(y)\n",
      "\u001b[0;31mValueError\u001b[0m: not enough values to unpack (expected 2, got 1)"
     ]
    }
   ],
   "source": [
    "# 조건문으로 예외처리한 코드\n",
    "# x = 3cm, y = 5cm\n",
    "x, y = input(\"밑변과 높이를 입력해주세요\").split(\" \")\n",
    "if x.isdigit() and y.isdigit():\n",
    "    x, y = int(x), int(y)\n",
    "    print(f\"삼각형의 넓이는 {x*y/2}입니다.\")\n",
    "else:\n",
    "    print(\"정수로 입력하지 않아 계산이 불가능합니다.\")"
   ]
  },
  {
   "cell_type": "code",
   "execution_count": null,
   "metadata": {},
   "outputs": [],
   "source": [
    "\n",
    "\n",
    "try:\n",
    "    x, y = map(int,input(\"밑변과 높이를 입력해주세요\").split(\" \"))\n",
    "    print(f\"삼각형의 넓이는 {x*y/2}입니다.\")\n",
    "except:\n",
    "    print(\"정수로 입력하지 않아 계산이 불가능합니다.\")"
   ]
  },
  {
   "cell_type": "markdown",
   "metadata": {},
   "source": [
    "try except 구문과 pass 키워드 조합 구조\n",
    "* 예외가 발생하더라도 지금 당장 처리하지 않아도 되는 부분이라면 pass 키워드를 사용할 수 있음\n",
    "\n",
    "> try:\n",
    "    예외가 발생할 가능성이 있는 코드  \n",
    "> except:\n",
    "    예외가 발생했을 때 실행할 코드"
   ]
  },
  {
   "cell_type": "code",
   "execution_count": null,
   "metadata": {},
   "outputs": [
    {
     "name": "stdout",
     "output_type": "stream",
     "text": [
      "['1', '7', '3', '스파이', '4'] 내부에 있는 숫자는\n",
      "['1', '7', '3', '4'] 입니다\n"
     ]
    }
   ],
   "source": [
    "list_input = [\"1\", \"7\", \"3\", \"스파이\", \"4\"]\n",
    "list_number = []\n",
    "for item in list_input:\n",
    "    try:\n",
    "        int(item)\n",
    "        list_number.append(item)\n",
    "    except:\n",
    "        pass\n",
    "\n",
    "print(f\"{list_input} 내부에 있는 숫자는\")\n",
    "print(f\"{list_number} 입니다\")"
   ]
  },
  {
   "cell_type": "markdown",
   "metadata": {},
   "source": [
    "try except 구문과 else 키워드 조합 구조\n",
    "* else 구문을 붙여서 사용하면 '예외가 발생하지 않았을 때 실행할 코드를 지정할 수 있다.\n"
   ]
  },
  {
   "cell_type": "code",
   "execution_count": null,
   "metadata": {},
   "outputs": [
    {
     "name": "stdout",
     "output_type": "stream",
     "text": [
      "삼각형의 넓이는 82.5입니다.\n"
     ]
    }
   ],
   "source": [
    "try:\n",
    "    x, y = map(int,input(\"밑변과 높이를 입력해주세요\").split(\" \"))\n",
    "except:\n",
    "    print(\"정수로 입력하지 않아 계산이 불가능합니다.\")\n",
    "else:\n",
    "    print(f\"삼각형의 넓이는 {x*y/2}입니다.\")"
   ]
  },
  {
   "cell_type": "markdown",
   "metadata": {},
   "source": [
    "finally 구문\n",
    "* 예외 처리 구문에서 가장 마지막에 사용할 수 있는 구문\n",
    "* 예외가 발생하든 발생하지 않든 무조건 실행할 때 사용하는 코드\n",
    "\n",
    "> try:\n",
    "    예외가 발생할 가능성이 있는 코드  \n",
    "> except:\n",
    "    예외가 발생했을 때 실행할 코드  \n",
    "> else:\n",
    "    예외가 발생하지 않았을 때 실행할 코드  \n",
    "> finally:\n",
    "    무조건 실행할 코드"
   ]
  },
  {
   "cell_type": "code",
   "execution_count": null,
   "metadata": {},
   "outputs": [
    {
     "name": "stdout",
     "output_type": "stream",
     "text": [
      "삼각형의 넓이는 9.0입니다.\n",
      "프로그램이 종료 되었습니다.\n"
     ]
    }
   ],
   "source": [
    "try:\n",
    "    x, y = map(int,input(\"밑변과 높이를 입력해주세요\").split(\" \"))\n",
    "except:\n",
    "    print(\"정수로 입력하지 않아 계산이 불가능합니다.\")\n",
    "else:\n",
    "    print(f\"삼각형의 넓이는 {x*y/2}입니다.\")\n",
    "finally:\n",
    "    print(\"프로그램이 종료 되었습니다.\")"
   ]
  },
  {
   "cell_type": "markdown",
   "metadata": {},
   "source": [
    "참고로 return 구문으로 함수를 빠져나와도, 반복문의 break 를 만나도 finally만 있다면 무조건 finally 실행됨\n",
    "\n",
    "try, except, finally 구문 조합 규칙\n",
    "* try ~ except\n",
    "* try ~ except ~ else\n",
    "* try ~ except ~ finally\n",
    "* try ~ except ~ else ~ finally\n",
    "* try ~ finally"
   ]
  },
  {
   "cell_type": "code",
   "execution_count": null,
   "metadata": {},
   "outputs": [],
   "source": []
  }
 ],
 "metadata": {
  "kernelspec": {
   "display_name": "Python 3",
   "language": "python",
   "name": "python3"
  },
  "language_info": {
   "codemirror_mode": {
    "name": "ipython",
    "version": 3
   },
   "file_extension": ".py",
   "mimetype": "text/x-python",
   "name": "python",
   "nbconvert_exporter": "python",
   "pygments_lexer": "ipython3",
   "version": "3.9.6"
  }
 },
 "nbformat": 4,
 "nbformat_minor": 2
}
