{
 "cells": [
  {
   "cell_type": "markdown",
   "metadata": {},
   "source": [
    "[패키지]\n",
    "\n",
    "패키지는 모듈의 집합\n",
    "\n"
   ]
  },
  {
   "cell_type": "code",
   "execution_count": null,
   "metadata": {},
   "outputs": [],
   "source": []
  }
 ],
 "metadata": {
  "language_info": {
   "name": "python"
  }
 },
 "nbformat": 4,
 "nbformat_minor": 2
}
