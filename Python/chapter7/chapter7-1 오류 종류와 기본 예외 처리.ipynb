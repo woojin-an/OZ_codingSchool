{
 "cells": [
  {
   "cell_type": "markdown",
   "metadata": {},
   "source": [
    "오류의 종류\n",
    "\n",
    "프로그램 언어의 오류에는 크게 두가주 종류가 있음\n",
    "* 구문오류: 프로그램 실행 전에 발생하는 오류\n",
    "* 예외 또는 런타임오류: 프로그램 실행 중에 발생하는 오류\n",
    "\n",
    "[구문오류]\n",
    "* 괄호의 개수, 들여쓰기 문제 등으로 프로그램이 실행되기도 전에 발생하는 오류"
   ]
  },
  {
   "cell_type": "code",
   "execution_count": 1,
   "metadata": {},
   "outputs": [
    {
     "name": "stdout",
     "output_type": "stream",
     "text": [
      "오류는 아주 사소한것부터 발생합니다.\n"
     ]
    }
   ],
   "source": [
    "# 구문오류 예제\n",
    "print(\"오류는 아주 사소한것부터 발생합니다.\")"
   ]
  },
  {
   "cell_type": "code",
   "execution_count": 4,
   "metadata": {},
   "outputs": [
    {
     "ename": "SyntaxError",
     "evalue": "unexpected EOF while parsing (3234582578.py, line 2)",
     "output_type": "error",
     "traceback": [
      "\u001b[0;36m  Cell \u001b[0;32mIn[4], line 2\u001b[0;36m\u001b[0m\n\u001b[0;31m    print(\"오류는 아주 사소한것부터 발생합니다.\"\u001b[0m\n\u001b[0m                                ^\u001b[0m\n\u001b[0;31mSyntaxError\u001b[0m\u001b[0;31m:\u001b[0m unexpected EOF while parsing\n"
     ]
    }
   ],
   "source": [
    "# 닫는 괄호를 생략한 경우\n",
    "print(\"오류는 아주 사소한것부터 발생합니다.\""
   ]
  },
  {
   "cell_type": "code",
   "execution_count": 7,
   "metadata": {},
   "outputs": [
    {
     "name": "stdout",
     "output_type": "stream",
     "text": [
      "오류는 아주 사소한것부터 발생합니다.\n"
     ]
    }
   ],
   "source": [
    "# 괄호 삽입하여 오류 해결\n",
    "print(\"오류는 아주 사소한것부터 발생합니다.\")\n"
   ]
  },
  {
   "cell_type": "markdown",
   "metadata": {},
   "source": [
    "[예외]\n",
    "* 예외 또는 런타임 오류는 실행중에 발생하는 오류"
   ]
  },
  {
   "cell_type": "code",
   "execution_count": 9,
   "metadata": {},
   "outputs": [
    {
     "name": "stdout",
     "output_type": "stream",
     "text": [
      "오류는 아주 사소한것부터 발생합니다.\n"
     ]
    },
    {
     "ename": "NameError",
     "evalue": "name 'dogs' is not defined",
     "output_type": "error",
     "traceback": [
      "\u001b[0;31m---------------------------------------------------------------------------\u001b[0m",
      "\u001b[0;31mNameError\u001b[0m                                 Traceback (most recent call last)",
      "Cell \u001b[0;32mIn[9], line 4\u001b[0m\n\u001b[1;32m      2\u001b[0m \u001b[38;5;28mprint\u001b[39m(\u001b[38;5;124m\"\u001b[39m\u001b[38;5;124m오류는 아주 사소한것부터 발생합니다.\u001b[39m\u001b[38;5;124m\"\u001b[39m)\n\u001b[1;32m      3\u001b[0m \u001b[38;5;66;03m#예외 발생 코드 해결\u001b[39;00m\n\u001b[0;32m----> 4\u001b[0m \u001b[43mdogs\u001b[49m\u001b[38;5;241m.\u001b[39mappend(\u001b[38;5;124m\"\u001b[39m\u001b[38;5;124m말티즈\u001b[39m\u001b[38;5;124m\"\u001b[39m)\n",
      "\u001b[0;31mNameError\u001b[0m: name 'dogs' is not defined"
     ]
    }
   ],
   "source": [
    "#정상 실행\n",
    "print(\"오류는 아주 사소한것부터 발생합니다.\")\n",
    "\n",
    "#예외 발생 코드 해결\n",
    "dogs.append(\"말티즈\")"
   ]
  },
  {
   "cell_type": "code",
   "execution_count": 13,
   "metadata": {},
   "outputs": [
    {
     "name": "stdout",
     "output_type": "stream",
     "text": [
      "오류는 아주 사소한것부터 발생합니다.\n"
     ]
    }
   ],
   "source": [
    "#정상 실행\n",
    "print(\"오류는 아주 사소한것부터 발생합니다.\")\n",
    "\n",
    "#예외 발생 코드 해결\n",
    "dogs = [\"닥스훈트\", \"시바견\"]\n",
    "dogs.append(\"말티즈\")"
   ]
  },
  {
   "cell_type": "markdown",
   "metadata": {},
   "source": [
    "[기본 예외 처리]  \n",
    "예외를 해결하는 모든것을 예외처리라고 함\n",
    "\n",
    "예외처리하는 2가지 방법\n",
    "\n",
    "* 조건문을 사용하는 방법\n",
    "* try구문을 사용하는 방법\n",
    "\n",
    "[조건문을 이용한 예외처리]\n",
    "* 조건문을 이용한 예외 처리방법을 기본 예외 처리라고 함\n",
    "\n",
    "예외가 발생할 수 있는 상황을 파악하는게 우선임."
   ]
  },
  {
   "cell_type": "code",
   "execution_count": 16,
   "metadata": {},
   "outputs": [
    {
     "name": "stdout",
     "output_type": "stream",
     "text": [
      "삼각형의 넓이는 7.5입니다.\n"
     ]
    }
   ],
   "source": [
    "x,y = map(int, input(\"밑변과 높이를 입력해주세요\").split(\" \"))\n",
    "print(f\"삼각형의 넓이는 {x*y/2}입니다.\")"
   ]
  },
  {
   "cell_type": "code",
   "execution_count": 18,
   "metadata": {},
   "outputs": [
    {
     "ename": "ValueError",
     "evalue": "invalid literal for int() with base 10: '3cm'",
     "output_type": "error",
     "traceback": [
      "\u001b[0;31m---------------------------------------------------------------------------\u001b[0m",
      "\u001b[0;31mValueError\u001b[0m                                Traceback (most recent call last)",
      "Cell \u001b[0;32mIn[18], line 2\u001b[0m\n\u001b[1;32m      1\u001b[0m \u001b[38;5;66;03m# x=3cm, y=5cm\u001b[39;00m\n\u001b[0;32m----> 2\u001b[0m x, y \u001b[38;5;241m=\u001b[39m \u001b[38;5;28mmap\u001b[39m(\u001b[38;5;28mint\u001b[39m,\u001b[38;5;28minput\u001b[39m(\u001b[38;5;124m\"\u001b[39m\u001b[38;5;124m밑변과 높이를 입력해주세요\u001b[39m\u001b[38;5;124m\"\u001b[39m)\u001b[38;5;241m.\u001b[39msplit(\u001b[38;5;124m\"\u001b[39m\u001b[38;5;124m \u001b[39m\u001b[38;5;124m\"\u001b[39m))\n\u001b[1;32m      3\u001b[0m \u001b[38;5;28mprint\u001b[39m(\u001b[38;5;124mf\u001b[39m\u001b[38;5;124m\"\u001b[39m\u001b[38;5;124m삼각형의 넓이는 \u001b[39m\u001b[38;5;132;01m{\u001b[39;00mx\u001b[38;5;241m*\u001b[39my\u001b[38;5;241m/\u001b[39m\u001b[38;5;241m2\u001b[39m\u001b[38;5;132;01m}\u001b[39;00m\u001b[38;5;124m입니다.\u001b[39m\u001b[38;5;124m\"\u001b[39m)\n",
      "\u001b[0;31mValueError\u001b[0m: invalid literal for int() with base 10: '3cm'"
     ]
    }
   ],
   "source": [
    "# x=3cm, y=5cm\n",
    "x, y = map(int,input(\"밑변과 높이를 입력해주세요\").split(\" \"))\n",
    "print(f\"삼각형의 넓이는 {x*y/2}입니다.\")\n",
    "\n",
    "#정수가 아니라서 오류 발생"
   ]
  },
  {
   "cell_type": "markdown",
   "metadata": {},
   "source": [
    "정수를 입력하지 않아 발생한 오류에 대해 조건으로 구분해서 다른 처리를 할 수 있도록 코드를 수정\n",
    "\n",
    "조건문에 사용할 함수는 isdigit()\n",
    "* isdigit(): 숫자로만 구성되어있는 글자인지를 판단하고 숫자로 변환이 가능한 글자라면 true 반환\n",
    "\n",
    "예) num = \"3\"\n",
    "isdigit(num) -> True\n"
   ]
  },
  {
   "cell_type": "code",
   "execution_count": 22,
   "metadata": {},
   "outputs": [
    {
     "name": "stdout",
     "output_type": "stream",
     "text": [
      "정수로 입력하지 않아 계산이 불가능합니다.\n"
     ]
    }
   ],
   "source": [
    "x, y = input(\"밑변과 높이를 입력해주세요\").split(\" \")\n",
    "if x.isdigit() and y.isdigit():\n",
    "    x, y = int(x), int(y)\n",
    "    print(f\"삼각형의 넓이는 {x*y/2}입니다.\")\n",
    "else:\n",
    "    print(\"정수로 입력하지 않아 계산이 불가능합니다.\")\n"
   ]
  },
  {
   "cell_type": "code",
   "execution_count": null,
   "metadata": {},
   "outputs": [],
   "source": []
  },
  {
   "cell_type": "code",
   "execution_count": null,
   "metadata": {},
   "outputs": [],
   "source": []
  }
 ],
 "metadata": {
  "kernelspec": {
   "display_name": "Python 3",
   "language": "python",
   "name": "python3"
  },
  "language_info": {
   "codemirror_mode": {
    "name": "ipython",
    "version": 3
   },
   "file_extension": ".py",
   "mimetype": "text/x-python",
   "name": "python",
   "nbconvert_exporter": "python",
   "pygments_lexer": "ipython3",
   "version": "3.9.6"
  }
 },
 "nbformat": 4,
 "nbformat_minor": 2
}
