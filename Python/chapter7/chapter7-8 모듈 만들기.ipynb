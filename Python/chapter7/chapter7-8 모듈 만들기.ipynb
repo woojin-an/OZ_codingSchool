{
 "cells": [
  {
   "cell_type": "markdown",
   "metadata": {},
   "source": [
    "[모듈 만들기]\n",
    "\n",
    "모듈: 함수의 집합\n",
    "\n",
    "같은 폴더 안에 2개의 파일을 만들기\n",
    "* 모듈이 될 파일: oz_module.py\n",
    "* 모듈을 불러와 실행할 파일: oz.py\n"
   ]
  },
  {
   "cell_type": "code",
   "execution_count": null,
   "metadata": {},
   "outputs": [],
   "source": []
  },
  {
   "cell_type": "code",
   "execution_count": null,
   "metadata": {},
   "outputs": [],
   "source": []
  }
 ],
 "metadata": {
  "language_info": {
   "name": "python"
  }
 },
 "nbformat": 4,
 "nbformat_minor": 2
}
