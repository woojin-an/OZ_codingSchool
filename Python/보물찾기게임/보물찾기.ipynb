{
 "cells": [
  {
   "cell_type": "code",
   "execution_count": 5,
   "metadata": {},
   "outputs": [
    {
     "name": "stdout",
     "output_type": "stream",
     "text": [
      "Current position: (4, 2). Distance to treasure: 4\n",
      "Current position: (3, 2). Distance to treasure: 3\n",
      "Current position: (2, 2). Distance to treasure: 2\n",
      "Current position: (1, 2). Distance to treasure: 1\n",
      "Current position: (0, 2). Distance to treasure: 2\n",
      "Current position: (1, 2). Distance to treasure: 1\n",
      "Current position: (1, 3). Distance to treasure: 2\n",
      "Current position: (1, 2). Distance to treasure: 1\n",
      "Current position: (1, 1). Distance to treasure: 0\n",
      "Congratulations! You found the treasure in 8 moves.\n"
     ]
    }
   ],
   "source": [
    "import random\n",
    "\n",
    "# 게임 초기화\n",
    "def initialize_game(n):\n",
    "    treasure_position = (random.randint(0, n-1), random.randint(0, n-1))\n",
    "    player_position = (random.randint(0, n-1), random.randint(0, n-1))\n",
    "    return treasure_position, player_position\n",
    "\n",
    "# 거리 계산\n",
    "def calculate_distance(treasure_position, player_position):\n",
    "    return abs(treasure_position[0] - player_position[0]) + abs(treasure_position[1] - player_position[1])\n",
    "\n",
    "# 플레이어 이동\n",
    "def move_player(board_size, player_position, direction):\n",
    "    x, y = player_position\n",
    "    if direction == 'N' and x > 0:\n",
    "        x -= 1\n",
    "    elif direction == 'S' and x < board_size - 1:\n",
    "        x += 1\n",
    "    elif direction == 'E' and y < board_size - 1:\n",
    "        y += 1\n",
    "    elif direction == 'W' and y > 0:\n",
    "        y -= 1\n",
    "    else:\n",
    "        print(\"Invalid move. Try again.\")\n",
    "    return x, y\n",
    "\n",
    "# 게임 실행\n",
    "def play_game(board_size):\n",
    "    treasure_position, player_position = initialize_game(board_size)\n",
    "    moves = 0\n",
    "    \n",
    "    while True:\n",
    "        distance = calculate_distance(treasure_position, player_position)\n",
    "        print(f\"Current position: {player_position}. Distance to treasure: {distance}\")\n",
    "        \n",
    "        if distance == 0:\n",
    "            print(f\"Congratulations! You found the treasure in {moves} moves.\")\n",
    "            break\n",
    "        \n",
    "        direction = input(\"Enter move direction (N, S, E, W): \").upper()\n",
    "        if direction in ['N', 'S', 'E', 'W']:\n",
    "            player_position = move_player(board_size, player_position, direction)\n",
    "            moves += 1\n",
    "        else:\n",
    "            print(\"Invalid direction. Please enter N, S, E, or W.\")\n",
    "\n",
    "# 게임 보드 크기 설정 및 게임 시작\n",
    "if __name__ == \"__main__\":\n",
    "    board_size = 5  # 보드 크기를 5x5로 설정\n",
    "    play_game(board_size)\n"
   ]
  }
 ],
 "metadata": {
  "kernelspec": {
   "display_name": "Python 3",
   "language": "python",
   "name": "python3"
  },
  "language_info": {
   "codemirror_mode": {
    "name": "ipython",
    "version": 3
   },
   "file_extension": ".py",
   "mimetype": "text/x-python",
   "name": "python",
   "nbconvert_exporter": "python",
   "pygments_lexer": "ipython3",
   "version": "3.9.6"
  }
 },
 "nbformat": 4,
 "nbformat_minor": 2
}
