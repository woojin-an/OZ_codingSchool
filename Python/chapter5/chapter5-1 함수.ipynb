{
 "cells": [
  {
   "cell_type": "markdown",
   "metadata": {},
   "source": []
  },
  {
   "cell_type": "code",
   "execution_count": 2,
   "metadata": {},
   "outputs": [
    {
     "name": "stdout",
     "output_type": "stream",
     "text": [
      "양파를 2개를 수확했습니다.\n",
      "대파를 수확했습니다.\n"
     ]
    }
   ],
   "source": [
    "def 양파():\n",
    "    print(\"양파를 2개를 수확했습니다.\")\n",
    "def 대파():\n",
    "    print(\"대파를 수확했습니다.\")\n",
    "    \n",
    "#함수 호출하기\n",
    "양파()\n",
    "대파()"
   ]
  },
  {
   "cell_type": "code",
   "execution_count": 7,
   "metadata": {},
   "outputs": [
    {
     "name": "stdout",
     "output_type": "stream",
     "text": [
      "올해 비가 많이 왔습니다.\n",
      "농작물 수확량이 현저히 줄었습니다.\n"
     ]
    }
   ],
   "source": [
    "def 수확():\n",
    "    print('올해 비가 많이 왔습니다.')\n",
    "    print('농작물 수확량이 현저히 줄었습니다.')\n",
    "\n",
    "수확()"
   ]
  },
  {
   "cell_type": "code",
   "execution_count": 9,
   "metadata": {},
   "outputs": [
    {
     "name": "stdout",
     "output_type": "stream",
     "text": [
      "옥수수와 수박의 수확량 : 12\n"
     ]
    }
   ],
   "source": [
    "def function(x,y):\n",
    "    z = x + y\n",
    "    return z #return을 만나면 함수가 종료됨\n",
    "\n",
    "#A등급 10마리, B등급 9마리\n",
    "print('옥수수와 수박의 수확량 :',function(10,2))"
   ]
  },
  {
   "cell_type": "code",
   "execution_count": 11,
   "metadata": {},
   "outputs": [
    {
     "name": "stdout",
     "output_type": "stream",
     "text": [
      "고라니 2마리를 잡았습니다.\n"
     ]
    }
   ],
   "source": [
    "def 수확():\n",
    "    print(\"고라니 2마리를 잡았습니다.\")\n",
    "수확()"
   ]
  },
  {
   "cell_type": "code",
   "execution_count": 13,
   "metadata": {},
   "outputs": [
    {
     "name": "stdout",
     "output_type": "stream",
     "text": [
      "12\n",
      "옥수수와 수박의 수확량 : None\n"
     ]
    }
   ],
   "source": [
    "def function(x,y):\n",
    "    z = x + y\n",
    "    print(z) #return이 없으므로 반환하여 값을 사용하지 못함. \n",
    "\n",
    "#A등급 10마리, B등급 9마리\n",
    "print('옥수수와 수박의 수확량 :',function(10,2))\n"
   ]
  },
  {
   "cell_type": "code",
   "execution_count": 15,
   "metadata": {},
   "outputs": [
    {
     "name": "stdout",
     "output_type": "stream",
     "text": [
      "5000 원입니다.\n"
     ]
    }
   ],
   "source": [
    "def 계산(가격, 개수):\n",
    "    return 가격 * 개수\n",
    "print(계산(1000,5), '원입니다.')\n"
   ]
  },
  {
   "cell_type": "code",
   "execution_count": 17,
   "metadata": {},
   "outputs": [
    {
     "name": "stdout",
     "output_type": "stream",
     "text": [
      "6300 원입니다.\n"
     ]
    }
   ],
   "source": [
    "def 계산(a,b,c):\n",
    "    합계 = a*1000 + b*500 + c*100\n",
    "    return 합계\n",
    "print(계산(5,2,3), '원입니다.')"
   ]
  },
  {
   "cell_type": "code",
   "execution_count": 21,
   "metadata": {},
   "outputs": [
    {
     "data": {
      "text/plain": [
       "101"
      ]
     },
     "execution_count": 21,
     "metadata": {},
     "output_type": "execute_result"
    }
   ],
   "source": [
    "a=100\t\t\t\t\t#전역변수 (전체에 대한 변수)\n",
    "def f():\n",
    "    global a\t\t\t#전역변수를 지역변수로 끌고오는 형태 (젼역변수는 함수내에서 쓸 수 없음)\n",
    "    a=a+1\n",
    "    return a\n",
    "f()"
   ]
  },
  {
   "cell_type": "code",
   "execution_count": 23,
   "metadata": {},
   "outputs": [
    {
     "name": "stdout",
     "output_type": "stream",
     "text": [
      "6300 원입니다.\n"
     ]
    }
   ],
   "source": [
    "won={'A등급':1000, 'B등급':500, 'C등급':100}\n",
    "def 계산(a,b,c):\n",
    "    합계 = a* won['A등급'] + b*won['B등급'] + c*won['C등급'] \t\t\t#dict타입에 대해서만 전역변수를 별도 처리 없이 쓸 수 있음\n",
    "    return 합계\n",
    "\n",
    "print(계산(5,2,3), '원입니다.')"
   ]
  },
  {
   "cell_type": "code",
   "execution_count": 24,
   "metadata": {},
   "outputs": [
    {
     "name": "stdout",
     "output_type": "stream",
     "text": [
      "314.0\n"
     ]
    }
   ],
   "source": [
    "#상수 (변하지 않는 수)\n",
    "PI = 3.14\n",
    "def circle(r,inputpi):\n",
    "    z=r*r*inputpi\n",
    "    return z\n",
    "\n",
    "result=circle(10,PI)\n",
    "print(result)"
   ]
  },
  {
   "cell_type": "code",
   "execution_count": 25,
   "metadata": {},
   "outputs": [
    {
     "name": "stdout",
     "output_type": "stream",
     "text": [
      "오늘 수확한 수확물:  12\n"
     ]
    }
   ],
   "source": [
    "A = 0\n",
    "B = 0\n",
    "C = 0\n",
    "유물 = 0\n",
    "\n",
    "def 감자():\n",
    "    global A\n",
    "    A += 1\n",
    "    \n",
    "def 양파():\n",
    "    global A, B, C\n",
    "    A += 3\n",
    "    B += 3\n",
    "    C += 4\n",
    "    \n",
    "def 옥수수():\n",
    "    global 유물\n",
    "    유물 += 1\n",
    "    \n",
    "감자()\n",
    "양파()\n",
    "옥수수()\n",
    "\n",
    "합계 = A + B + C + 유물\n",
    "print('오늘 수확한 수확물: ', 합계)"
   ]
  },
  {
   "cell_type": "code",
   "execution_count": 26,
   "metadata": {},
   "outputs": [
    {
     "name": "stdout",
     "output_type": "stream",
     "text": [
      "콩콩팥팥 수확의 기쁨\n"
     ]
    }
   ],
   "source": [
    "def print_text():\n",
    "    text = \"콩콩팥팥 수확의 기쁨\"\n",
    "    def txt():\n",
    "        print(text)\n",
    "    txt()\n",
    "print_text()"
   ]
  },
  {
   "cell_type": "code",
   "execution_count": 31,
   "metadata": {},
   "outputs": [
    {
     "data": {
      "text/plain": [
       "{'A등급': 4, 'B등급': 3, 'C등급': 4, '금': 1}"
      ]
     },
     "execution_count": 31,
     "metadata": {},
     "output_type": "execute_result"
    }
   ],
   "source": [
    "def 수확철():\n",
    "    야채 = {'A등급':0, 'B등급':0, 'C등급':0}\n",
    "    \n",
    "    def 양파():\n",
    "        야채['A등급'] += 1\n",
    "\t\n",
    "    def 대파():\n",
    "        야채['A등급'] += 3\n",
    "        야채['B등급'] += 3\n",
    "        야채['C등급'] += 4\n",
    "    \n",
    "    def 쪽파():\n",
    "        야채['금'] = 1\n",
    "        \n",
    "    양파()\n",
    "    대파()\n",
    "    쪽파()\n",
    "    \n",
    "    return 야채\n",
    "\t\n",
    "수확철()\n",
    "# sum(수확철().values())"
   ]
  },
  {
   "cell_type": "code",
   "execution_count": null,
   "metadata": {},
   "outputs": [],
   "source": []
  }
 ],
 "metadata": {
  "kernelspec": {
   "display_name": "Python 3",
   "language": "python",
   "name": "python3"
  },
  "language_info": {
   "codemirror_mode": {
    "name": "ipython",
    "version": 3
   },
   "file_extension": ".py",
   "mimetype": "text/x-python",
   "name": "python",
   "nbconvert_exporter": "python",
   "pygments_lexer": "ipython3",
   "version": "3.9.6"
  }
 },
 "nbformat": 4,
 "nbformat_minor": 2
}
