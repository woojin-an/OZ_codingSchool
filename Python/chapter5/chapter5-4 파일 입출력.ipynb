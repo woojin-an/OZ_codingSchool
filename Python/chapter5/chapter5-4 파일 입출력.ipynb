{
 "cells": [
  {
   "cell_type": "markdown",
   "metadata": {},
   "source": [
    "## 파일 입출력\n",
    "\n",
    "* 웹 -> 크롤링 -> 데이터베이스 -> 1차클렌징 -> 출력 후 담당자 전달 -> 2차클렌징 -> 유용한 데이터셋 -> csv 데이터베이스 입력 -> 인공지능 학습"
   ]
  },
  {
   "cell_type": "code",
   "execution_count": 1,
   "metadata": {},
   "outputs": [
    {
     "data": {
      "text/plain": [
       "'/Users/woojinan/Desktop/Oz_과제폴더/OZ_codingSchool/Python/chapter5'"
      ]
     },
     "execution_count": 1,
     "metadata": {},
     "output_type": "execute_result"
    }
   ],
   "source": [
    "pwd"
   ]
  },
  {
   "cell_type": "code",
   "execution_count": 2,
   "metadata": {},
   "outputs": [
    {
     "name": "stdout",
     "output_type": "stream",
     "text": [
      "/Users/woojinan/Desktop/Oz_과제폴더/OZ_codingSchool/Python/chapter5\n"
     ]
    },
    {
     "name": "stderr",
     "output_type": "stream",
     "text": [
      "/Users/woojinan/Library/Python/3.9/lib/python/site-packages/IPython/core/magics/osm.py:417: UserWarning: using dhist requires you to install the `pickleshare` library.\n",
      "  self.shell.db['dhist'] = compress_dhist(dhist)[-100:]\n"
     ]
    }
   ],
   "source": [
    "cd /Users/woojinan/Desktop/Oz_과제폴더/OZ_codingSchool/Python/chapter5"
   ]
  },
  {
   "cell_type": "markdown",
   "metadata": {},
   "source": [
    "r - 읽기\n",
    "w - 쓰기 (덮어쓰기, 주의)\n",
    "a - 추가\n"
   ]
  },
  {
   "cell_type": "code",
   "execution_count": 5,
   "metadata": {},
   "outputs": [],
   "source": [
    "f = open('text.txt','w')\n",
    "f.write('개발자 여러분')\n",
    "f.close()"
   ]
  },
  {
   "cell_type": "code",
   "execution_count": 6,
   "metadata": {},
   "outputs": [],
   "source": [
    "f = open('text.txt','w')\n",
    "f.write('''개발자 여러분\n",
    "안녕하세요\n",
    "지금은 테스트\n",
    "''')\n",
    "f.close()"
   ]
  },
  {
   "cell_type": "code",
   "execution_count": 8,
   "metadata": {},
   "outputs": [],
   "source": [
    "f = open('text.txt','w')\n",
    "메시지 = ''\n",
    "for i in range(10):\n",
    "    메시지 += \"개발자 여러분\\n\"\n",
    "f.write(메시지)\n",
    "f.close()"
   ]
  },
  {
   "cell_type": "code",
   "execution_count": 11,
   "metadata": {},
   "outputs": [
    {
     "name": "stdout",
     "output_type": "stream",
     "text": [
      "개발자 여러분\n",
      "개발자 여러분\n",
      "개발자 여러분\n",
      "개발자 여러분\n",
      "개발자 여러분\n",
      "개발자 여러분\n",
      "개발자 여러분\n",
      "개발자 여러분\n",
      "개발자 여러분\n",
      "개발자 여러분\n",
      "\n"
     ]
    }
   ],
   "source": [
    "#파일 내용 가져오기\n",
    "f = open('text.txt', 'r')\n",
    "s = f.read()\n",
    "print(s)\n",
    "f.close()"
   ]
  },
  {
   "cell_type": "code",
   "execution_count": 12,
   "metadata": {},
   "outputs": [
    {
     "name": "stdout",
     "output_type": "stream",
     "text": [
      "개발자 여러분\n",
      "\n",
      "<class 'str'>\n"
     ]
    },
    {
     "data": {
      "text/plain": [
       "<function TextIOWrapper.close()>"
      ]
     },
     "execution_count": 12,
     "metadata": {},
     "output_type": "execute_result"
    }
   ],
   "source": [
    "#파일 내용 한줄씩 읽기\n",
    "f = open('text.txt', 'r')\n",
    "line = f.readline()\n",
    "print(line)\n",
    "print(type(line))\n",
    "f.close"
   ]
  },
  {
   "cell_type": "code",
   "execution_count": 14,
   "metadata": {},
   "outputs": [
    {
     "name": "stdout",
     "output_type": "stream",
     "text": [
      "개발자 여러분\n",
      "\n",
      "개발자 여러분\n",
      "\n",
      "개발자 여러분\n",
      "\n",
      "개발자 여러분\n",
      "\n",
      "개발자 여러분\n",
      "\n",
      "개발자 여러분\n",
      "\n",
      "개발자 여러분\n",
      "\n",
      "개발자 여러분\n",
      "\n",
      "개발자 여러분\n",
      "\n",
      "개발자 여러분\n",
      "\n",
      "\n"
     ]
    }
   ],
   "source": [
    "# while을 이용한 한줄씩 읽어오기\n",
    "f = open('text.txt', 'r')\n",
    "while line:\n",
    "    line = f.readline()\n",
    "    print(line)\n",
    "f.close()"
   ]
  },
  {
   "cell_type": "code",
   "execution_count": 15,
   "metadata": {},
   "outputs": [],
   "source": [
    "#더하기\n",
    "f = open('text.txt','a')\n",
    "f.write(\"힘내자\")\n",
    "f.close()"
   ]
  },
  {
   "cell_type": "code",
   "execution_count": 16,
   "metadata": {},
   "outputs": [],
   "source": [
    "#마지막줄 안에 추가하기 \n",
    "with open('text.txt', 'a') as f:\n",
    "    f.write('힘내자 !')"
   ]
  },
  {
   "cell_type": "code",
   "execution_count": 25,
   "metadata": {},
   "outputs": [],
   "source": [
    "#문자형(str)만 추가 가능하므로 형변환 해야함\n",
    "list = [10, 20, 30]\n",
    "\n",
    "with open('text.txt','a') as f:\n",
    "    f.write(str(list))"
   ]
  },
  {
   "cell_type": "code",
   "execution_count": 19,
   "metadata": {},
   "outputs": [],
   "source": [
    "#자바스크립트와 연결되는 문법형태 'let test'\n",
    "list = [10, 20, 30]\n",
    "\n",
    "with open('text.txt','w') as f:\n",
    "\tf.write('let test =' + str(list))"
   ]
  },
  {
   "cell_type": "code",
   "execution_count": 24,
   "metadata": {},
   "outputs": [],
   "source": [
    "#형변환 없이 문자 그대로 입력\n",
    "list = ['10', '20', '30']\n",
    "\n",
    "with open('text.txt','w') as f:\n",
    "    f.writelines(list)"
   ]
  },
  {
   "cell_type": "code",
   "execution_count": 32,
   "metadata": {},
   "outputs": [],
   "source": [
    "#csv 파일의 처리\n",
    "list = ['10', '20', '30']\n",
    "with open('test3.csv', 'w') as f:\n",
    "    f.write(','.join(list))"
   ]
  },
  {
   "cell_type": "code",
   "execution_count": null,
   "metadata": {},
   "outputs": [],
   "source": []
  }
 ],
 "metadata": {
  "kernelspec": {
   "display_name": "Python 3",
   "language": "python",
   "name": "python3"
  },
  "language_info": {
   "codemirror_mode": {
    "name": "ipython",
    "version": 3
   },
   "file_extension": ".py",
   "mimetype": "text/x-python",
   "name": "python",
   "nbconvert_exporter": "python",
   "pygments_lexer": "ipython3",
   "version": "3.9.6"
  }
 },
 "nbformat": 4,
 "nbformat_minor": 2
}
