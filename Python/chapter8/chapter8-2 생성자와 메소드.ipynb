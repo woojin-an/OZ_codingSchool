{
 "cells": [
  {
   "cell_type": "markdown",
   "metadata": {},
   "source": [
    "이렇게 생성자 함수를 이용해서 객체를 만들때 그냥 만드는게 아니라  \n",
    "객체에 적용 시키고자 하는 기본 속성이나 어떤 처리를 할 수 있다.\n",
    "\n",
    "__init__ 함수 이용!\n",
    "\n",
    "```\n",
    "class 클래스 이름:\n",
    "    def __init__(self,추가적인 매개변수):\n",
    "```\n",
    "\n",
    "여기서 init를 이용한 내부 함수 생성시 주의해야할 점\n",
    "\n",
    "매개변수로 첫번째값은 self 여야함\n",
    "- self가 아닌 다른 변수명도 되지만, 세계적으로 공통으로 이용중임.\n",
    "- self로 왜 자기자신을 호출할까?  클래스 안에 선언 함수를 메소드라고 부름\n",
    "\n",
    "이 메소드를 사용하기 위해서는 클래스명 뒤에 . 을 붙여 사용가능함"
   ]
  },
  {
   "cell_type": "code",
   "execution_count": 1,
   "metadata": {},
   "outputs": [
    {
     "data": {
      "text/plain": [
       "['chapter8-2 생성자와 메소드.ipynb', 'chapter8-1 객체와 클래스 선언.ipynb']"
      ]
     },
     "execution_count": 1,
     "metadata": {},
     "output_type": "execute_result"
    }
   ],
   "source": [
    "import os\n",
    "os.listdir()"
   ]
  },
  {
   "cell_type": "markdown",
   "metadata": {},
   "source": [
    "이때 os 모듈이 메모리 어딘가에서 실행됨\n",
    "\n",
    "그 위치는 어떻게 찾을까?  \n",
    "self가 자기 자신을 참조함. 참조라는건 결국 메모리 어딘가에 위치해있는 주소를 참조하는 것임\n",
    "\n",
    "그러면 self에 값은 누가 넣어줌?  \n",
    "파이썬에서 클래스 내부 함수의 매개변수 가장 첫번째 값에 자동으로 채워줌.\n",
    "\n",
    "그래서 클래스.메소드()만으로 기능을 쉽게 이용 가능함.\n",
    "\n",
    "수강생 정보를 생성하는 코드를 class 로 선언해보자."
   ]
  },
  {
   "cell_type": "code",
   "execution_count": 12,
   "metadata": {},
   "outputs": [
    {
     "name": "stdout",
     "output_type": "stream",
     "text": [
      "백현우\n",
      "4\n",
      "3\n",
      "3\n",
      "2\n"
     ]
    }
   ],
   "source": [
    "class CreateOzStudents:\n",
    "    def __init__(self, name, python, database, Django, AWS):\n",
    "        self.name = name\n",
    "        self.python = python\n",
    "        self.database = database\n",
    "        self.Django = Django\n",
    "        self.AWS = AWS\n",
    "\n",
    "oz_students = [\n",
    "    CreateOzStudents(\"백현우\", 4, 3, 3, 2),\n",
    "    CreateOzStudents(\"홍혜인\", 4, 5, 2, 4),\n",
    "    CreateOzStudents(\"윤은성\", 3, 4, 4, 1),\n",
    "    CreateOzStudents(\"홍수철\", 2, 3, 1, 5)\n",
    "]\n",
    "\n",
    "print(oz_students[0].name)\n",
    "print(oz_students[0].python)\n",
    "print(oz_students[0].database)\n",
    "print(oz_students[0].Django)\n",
    "print(oz_students[0].AWS)"
   ]
  },
  {
   "cell_type": "markdown",
   "metadata": {},
   "source": [
    "```\n",
    "class 클래스 이름:\n",
    "    def 메소드 이름(self, 추가 매개변수)\n",
    "        pass\n",
    "```\n",
    "\n",
    "위에서 작성한 코드에 총합과 평균을 구하는 기능을 클래스 내부 함수로 만들어보자"
   ]
  },
  {
   "cell_type": "code",
   "execution_count": 11,
   "metadata": {},
   "outputs": [
    {
     "name": "stdout",
     "output_type": "stream",
     "text": [
      "이름\t총점\t평균\n",
      "백현우\t12\t3.0\n",
      "홍혜인\t15\t3.75\n",
      "윤은성\t12\t3.0\n",
      "홍수철\t11\t2.75\n"
     ]
    }
   ],
   "source": [
    "class CreateOzStudents:\n",
    "    def __init__(self, name, python, database, Django, AWS):\n",
    "        self.name = name\n",
    "        self.python = python\n",
    "        self.database = database\n",
    "        self.Django = Django\n",
    "        self.AWS = AWS\n",
    "\n",
    "    def get_sum(self):\n",
    "        return self.python + self.database + self.Django + self.AWS\n",
    "\n",
    "    def get_average(self):\n",
    "        return self.get_sum() / 4\n",
    "    \n",
    "    def to_string(self):\n",
    "        return f'{self.name}\\t{self.get_sum()}\\t{self.get_average()}'\n",
    "\n",
    "oz_students = [\n",
    "    CreateOzStudents(\"백현우\",4, 3, 3, 2),\n",
    "    CreateOzStudents(\"홍혜인\",4, 5, 2, 4),\n",
    "    CreateOzStudents(\"윤은성\",3, 4, 4, 1),\n",
    "    CreateOzStudents(\"홍수철\",2, 3, 1, 5)\n",
    "]\n",
    "\n",
    "print(\"이름\", \"총점\", \"평균\", sep=\"\\t\")\n",
    "for student in oz_students:\n",
    "    print(student.to_string())"
   ]
  },
  {
   "cell_type": "markdown",
   "metadata": {},
   "source": []
  }
 ],
 "metadata": {
  "kernelspec": {
   "display_name": "Python 3",
   "language": "python",
   "name": "python3"
  },
  "language_info": {
   "codemirror_mode": {
    "name": "ipython",
    "version": 3
   },
   "file_extension": ".py",
   "mimetype": "text/x-python",
   "name": "python",
   "nbconvert_exporter": "python",
   "pygments_lexer": "ipython3",
   "version": "3.9.6"
  }
 },
 "nbformat": 4,
 "nbformat_minor": 2
}
