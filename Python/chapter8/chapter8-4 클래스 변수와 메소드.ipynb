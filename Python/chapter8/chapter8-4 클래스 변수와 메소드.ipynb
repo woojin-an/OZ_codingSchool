{
 "cells": [
  {
   "cell_type": "markdown",
   "metadata": {},
   "source": [
    "클래스 변수 만들기\n"
   ]
  },
  {
   "cell_type": "code",
   "execution_count": 2,
   "metadata": {},
   "outputs": [
    {
     "name": "stdout",
     "output_type": "stream",
     "text": [
      "1번째 수강생의 정보가 추가되었습니다.\n",
      "2번째 수강생의 정보가 추가되었습니다.\n",
      "3번째 수강생의 정보가 추가되었습니다.\n",
      "4번째 수강생의 정보가 추가되었습니다.\n",
      "현재 데이터가 입력된 총 수강생은 4입니다.\n"
     ]
    }
   ],
   "source": [
    "class CreateOzStudents:\n",
    "\n",
    "    count = 0\n",
    "\n",
    "    def __init__(self, name, python, database, Django, AWS):\n",
    "        self.name = name\n",
    "        self.python = python\n",
    "        self.database = database\n",
    "        self.Django = Django\n",
    "        self.AWS = AWS\n",
    "\n",
    "        CreateOzStudents.count += 1\n",
    "        print(f\"{CreateOzStudents.count}번째 수강생의 정보가 추가되었습니다.\")\n",
    "\n",
    "oz_students = [\n",
    "    CreateOzStudents(\"백현우\",4, 3, 3, 2),\n",
    "    CreateOzStudents(\"홍혜인\",4, 5, 2, 4),\n",
    "    CreateOzStudents(\"윤은성\",3, 4, 4, 1),\n",
    "    CreateOzStudents(\"홍수철\",2, 3, 1, 5)\n",
    "]\n",
    "\n",
    "print(f'현재 데이터가 입력된 총 수강생은 {CreateOzStudents.count}입니다.')"
   ]
  },
  {
   "cell_type": "markdown",
   "metadata": {},
   "source": [
    "클래스 변수 외에도 함수도 마찬가지임\n",
    "\n",
    "다만 클래스 안에 함수를 만드는 방법은 조금 다름\n",
    "\n",
    "@classmethod 라는 데코레이터를 이용  \n",
    "함수에서 사용된 함수 데코레이터와 만드는 방법은 동일하나 명칭은 클래스 데코레이터 임\n",
    "\n",
    "클래스 데코레이터를 사용해 클래스 함수를 만드는 구문은 아래와 같음.\n",
    "\n",
    "```\n",
    "class 클래스이름:\n",
    "    @classmethod\n",
    "    def 클래스 함수(cls, 매개변수):\n",
    "        pass\n",
    "```\n",
    "\n",
    "그리고 클래스 함수를 호출하는 방법은 아래와 같다\n",
    "클래스 이름.함수이름(매개변수)"
   ]
  },
  {
   "cell_type": "code",
   "execution_count": 4,
   "metadata": {},
   "outputs": [
    {
     "name": "stdout",
     "output_type": "stream",
     "text": [
      "수강생 데이터베이스 정보\n",
      "이름\t총점\t평균\n",
      "백현우\t12\t3.0\n",
      "홍혜인\t15\t3.75\n",
      "윤은성\t12\t3.0\n",
      "홍수철\t11\t2.75\n"
     ]
    }
   ],
   "source": [
    "class CreateOzStudents:\n",
    "    student = []\n",
    "\n",
    "    @classmethod\n",
    "    def print(cls):\n",
    "        print(\"수강생 데이터베이스 정보\")\n",
    "        print(\"이름\\t총점\\t평균\")\n",
    "        for student in cls.student:\n",
    "            print(str(student))\n",
    "\n",
    "    def __init__(self, name, python, database, Django, AWS):\n",
    "        self.name = name\n",
    "        self.python = python\n",
    "        self.database = database\n",
    "        self.Django = Django\n",
    "        self.AWS = AWS\n",
    "        CreateOzStudents.student.append(self)\n",
    "\n",
    "        \n",
    "    def get_sum(self):\n",
    "        return self.python + self.database + self.Django + self.AWS\n",
    "\n",
    "    def get_average(self):\n",
    "        return self.get_sum() / 4\n",
    "    \n",
    "    def __str__(self):\n",
    "        return f'{self.name}\\t{self.get_sum()}\\t{self.get_average()}'\n",
    "\n",
    "\n",
    "CreateOzStudents(\"백현우\",4, 3, 3, 2),\n",
    "CreateOzStudents(\"홍혜인\",4, 5, 2, 4),\n",
    "CreateOzStudents(\"윤은성\",3, 4, 4, 1),\n",
    "CreateOzStudents(\"홍수철\",2, 3, 1, 5)\n",
    "\n",
    "CreateOzStudents.print()"
   ]
  },
  {
   "cell_type": "markdown",
   "metadata": {},
   "source": []
  }
 ],
 "metadata": {
  "kernelspec": {
   "display_name": "Python 3",
   "language": "python",
   "name": "python3"
  },
  "language_info": {
   "codemirror_mode": {
    "name": "ipython",
    "version": 3
   },
   "file_extension": ".py",
   "mimetype": "text/x-python",
   "name": "python",
   "nbconvert_exporter": "python",
   "pygments_lexer": "ipython3",
   "version": "3.9.6"
  }
 },
 "nbformat": 4,
 "nbformat_minor": 2
}
