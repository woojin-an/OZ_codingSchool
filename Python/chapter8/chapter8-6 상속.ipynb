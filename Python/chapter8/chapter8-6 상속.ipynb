{
 "cells": [
  {
   "cell_type": "markdown",
   "metadata": {},
   "source": [
    "클래스 기반의 객체 지향 언어들은 상속 이라는 기능을 지원함.\n",
    "\n",
    "[상속]\n",
    "\n",
    "지금까지 우리가 만든 클래스(수강생 등록, 원의 둘레워 넓이 구하기, 데이터베이스에 등록된 수강생 세기 등) 안에  \n",
    "일부 내용을 추가(예: 수강생 삭제 기능)하거나 변경하는 것을 상속이라고 함.\n",
    "\n",
    "프로그래밍 언어에서 원래 클래스를 부모라고 부르고 부모 클래스를 기반으로 생성한 클래스를 자식 클래스라고 부릅니다.  \n",
    "그리고 이 과정을 상속이라고 함.\n",
    "\n",
    "[다중상속]\n",
    "\n",
    "상속은 기존 클래스의 추가나 변경을 하는 정도라면 다중 상속은 각각의 클래스에서 원하는 속성 또는 기능만  \n",
    "뽑아다가 사용하는것을 말한다.\n"
   ]
  },
  {
   "cell_type": "code",
   "execution_count": 8,
   "metadata": {},
   "outputs": [
    {
     "name": "stdout",
     "output_type": "stream",
     "text": [
      "Parent 클래스의 __init()__ 메소드가 호출되었습니다.\n",
      "Child 클래스의 __init__() 메소드가 호출되었습니다.\n",
      "Parent 클래스의 test() 메소드입니다.\n",
      "테스트\n"
     ]
    }
   ],
   "source": [
    "#자식클래스 만들 때 사용할 부모 클래스\n",
    "class Parent:\n",
    "    def __init__(self):\n",
    "        self.value = \"테스트\"\n",
    "        print(\"Parent 클래스의 __init()__ 메소드가 호출되었습니다.\")\n",
    "    def test(self):\n",
    "        print(\"Parent 클래스의 test() 메소드입니다.\")\n",
    "\n",
    "class Child(Parent):\n",
    "    def __init__(self):\n",
    "        super().__init__()\n",
    "        print(\"Child 클래스의 __init__() 메소드가 호출되었습니다.\")\n",
    "\n",
    "child = Child()\n",
    "\n",
    "child.test()\n",
    "\n",
    "print(child.value)"
   ]
  },
  {
   "cell_type": "code",
   "execution_count": null,
   "metadata": {},
   "outputs": [],
   "source": []
  }
 ],
 "metadata": {
  "kernelspec": {
   "display_name": "Python 3",
   "language": "python",
   "name": "python3"
  },
  "language_info": {
   "codemirror_mode": {
    "name": "ipython",
    "version": 3
   },
   "file_extension": ".py",
   "mimetype": "text/x-python",
   "name": "python",
   "nbconvert_exporter": "python",
   "pygments_lexer": "ipython3",
   "version": "3.9.6"
  }
 },
 "nbformat": 4,
 "nbformat_minor": 2
}
