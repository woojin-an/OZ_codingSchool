{
 "cells": [
  {
   "cell_type": "markdown",
   "metadata": {},
   "source": [
    "[문제]\n",
    "\n",
    "'Account' 클래스를 작성하세요. \n",
    "\n",
    "이 클래스는 소유자(owner)와 잔액(balance)을 속성으로 가지며, 잔액은 프라이빗 변수로 선언합니다. \n",
    "\n",
    "'deposit'와 'withdraw' 두 개의 메소드를 통해 잔액을 조작할 수 있도록 하세요. \n",
    "\n",
    "이 때, 잔액은 음수가 될 수 없도록 체크해야 합니다. 'Account' 객체를 생성하고,<br>\n",
    "입금 및 출금 작업을 시뮬레이션한 후, 최종 잔액을 출력하세요."
   ]
  },
  {
   "cell_type": "code",
   "execution_count": 5,
   "metadata": {},
   "outputs": [
    {
     "name": "stdout",
     "output_type": "stream",
     "text": [
      "20000원이 출금되었습니다. 현재 잔액은 80000원 입니다.\n",
      "최종 잔액: 80000원\n"
     ]
    }
   ],
   "source": [
    "class Account:\n",
    "        \n",
    "    def __init__(self, owner, balance):\n",
    "        self.owner = owner\n",
    "        self.__balance = balance\n",
    "\n",
    "    #입금 메소드\n",
    "    def deposit(self, amount):\n",
    "        self.__balance += amount\n",
    "        print(f\"{amount}원이 입금되었습니다. 현재 잔액은 {self.__balance}원 입니다.\")\n",
    "\n",
    "    #출금 메소드\n",
    "    def withdraw(self, amount):\n",
    "            #출금후 잔액이 음수가 아닐 때\n",
    "            if 0 < amount < self.__balance:\n",
    "                self.__balance -= amount\n",
    "                print(f\"{amount}원이 출금되었습니다. 현재 잔액은 {self.__balance}원 입니다.\")\n",
    "            #출금후 잔액이 음수일 때\n",
    "            else:\n",
    "                print(\"잔액이 부족하여 출금하지 못하였습니다.\")\n",
    "    \n",
    "    #최종 잔액 반환 메소드      \n",
    "    def get_balance(self):\n",
    "         return self.__balance\n",
    "         \n",
    "account = Account(\"김코딩\", 100000)\n",
    "\n",
    "account.withdraw(20000)\n",
    "\n",
    "print(f'최종 잔액: {account.get_balance()}원')"
   ]
  },
  {
   "cell_type": "code",
   "execution_count": null,
   "metadata": {},
   "outputs": [],
   "source": []
  }
 ],
 "metadata": {
  "kernelspec": {
   "display_name": "Python 3",
   "language": "python",
   "name": "python3"
  },
  "language_info": {
   "codemirror_mode": {
    "name": "ipython",
    "version": 3
   },
   "file_extension": ".py",
   "mimetype": "text/x-python",
   "name": "python",
   "nbconvert_exporter": "python",
   "pygments_lexer": "ipython3",
   "version": "3.9.6"
  }
 },
 "nbformat": 4,
 "nbformat_minor": 2
}
