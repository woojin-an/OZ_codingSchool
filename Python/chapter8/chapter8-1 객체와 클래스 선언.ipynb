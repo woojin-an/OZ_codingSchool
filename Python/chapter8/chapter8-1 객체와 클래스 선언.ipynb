{
 "cells": [
  {
   "cell_type": "markdown",
   "metadata": {},
   "source": [
    "* 객체 지향 프로그래밍: 클래스 기반의 객체를 우선으로 생각하는 프로그래밍\n",
    "\n",
    "(객체지향 프로그래밍 언어: Java, Python, PHP 등)\n",
    "\n",
    "[객체]\n",
    "객체 : 구현하고자 하는 대상의 속성과 기능을 가지는 프로그램 단위\n",
    "\n",
    "예) 사람을 객체로 만들어보자\n",
    "* 속성(눈, 코, 입, 키, 몸무게, 성격 등)\n",
    "* 기능(다리를 이용해 걷기, 물건을 잡을때 손가락 이용하기 등)\n",
    "\n",
    "객체를 만들기 위해서는 속성과 기능이 필요함\n",
    "\n",
    "하지만, 현실세계에 있는 물건이든, 개념 또는 사상 등 많은 것들을 프로그램으로 표현하기에는  \n",
    "대상들이 가지고 있는 구성 요소 또는 특징 그리고 기능들이 많음  \n",
    "=> 객체를 구성하고 있는 속성이 많은 경우 필요한 속성만을 이용해 객체를 표현하는 개념을 추상화라고 함\n",
    "---\n",
    "우리가 개발 공부를 하는 사람 즉 수강생을 객체로 만들기 위해서 필요한 속성과 기능은?\n",
    "* 이름\n",
    "* Python 활용 능력 (1~5 점수가 높을수록 실력이 좋음)\n",
    "* Database 활용 능력 (1~5 점수가 높을수록 실력이 좋음)\n",
    "* Django 활용 능력(1~5 점수가 높을수록 실력이 좋음)\n",
    "* AWS 활용 능력 (1~5 점수가 높을수록 실력이 좋음)\n",
    "\n",
    "그리고 생각할 수 있는 기능\n",
    "* 수강 과목별 활용 능력 평균 구하기\n",
    "* 수강 과목별 활용 능력 총점 구하기\n",
    "\n"
   ]
  },
  {
   "cell_type": "code",
   "execution_count": null,
   "metadata": {},
   "outputs": [],
   "source": [
    "oz_students = [\n",
    "{\"name\": \"백현우\", \"python\": 4, \"database\": 3, \"Django\": 3, \"AWS\": 2},\n",
    "{\"name\": \"홍혜인\", \"python\": 4, \"database\": 5, \"Django\": 2, \"AWS\": 4},\n",
    "{\"name\": \"윤은성\", \"python\": 3, \"database\": 4, \"Django\": 4, \"AWS\": 1},\n",
    "{\"name\": \"홍수철\", \"python\": 2, \"database\": 3, \"Django\": 1, \"AWS\": 5},\n",
    "]\n",
    "\n",
    "print(\"이름\", \"총점\", \"평균\", sep=\"\\t\")\n",
    "\n",
    "for student in oz_students:\n",
    "    ability_sum = student[\"python\"] + student[\"database\"] + student[\"Django\"] + student[\"AWS\"]\n",
    "    ability_average = ability_sum / 4\n",
    "\n",
    "    print(student[\"name\"], ability_sum, ability_average, sep=\"\\t\")"
   ]
  },
  {
   "cell_type": "markdown",
   "metadata": {},
   "source": [
    "* 여러가지 속성(이름, 수강한 과목 등에 대한 정보)을 가지고 있는 대상을 객체라고 함\n",
    "* 프로그래밍 언어에서 좀 더 넓은 의미로 속성을 가질 수 있는 모든 것을 객체라고 함\n"
   ]
  },
  {
   "cell_type": "code",
   "execution_count": null,
   "metadata": {},
   "outputs": [],
   "source": [
    "def create_oz_student(name, python, database, Django, AWS):\n",
    "    return {\n",
    "        \"name\": name,\n",
    "        \"python\": python,\n",
    "        \"database\": database,\n",
    "        \"Django\": Django,\n",
    "        \"AWS\": AWS,\n",
    "    }\n",
    "oz_students = [\n",
    "    create_oz_student(\"백현우\", 4, 3, 3, 2),\n",
    "    create_oz_student(\"홍혜인\", 4, 5, 2, 4),\n",
    "    create_oz_student(\"윤은성\", 3, 4, 4, 1),\n",
    "    create_oz_student(\"홍수철\", 2, 3, 1, 5),\n",
    "]\n",
    "\n",
    "print(\"이름\", \"총점\", \"평균\", sep=\"\\t\")\n",
    "\n",
    "for student in oz_students:\n",
    "    ability_sum = student[\"python\"] + student[\"database\"] + student[\"Django\"] + student[\"AWS\"]\n",
    "    ability_average = ability_sum / 4\n",
    "\n",
    "    print(student[\"name\"], ability_sum, ability_average, sep=\"\\t\")"
   ]
  },
  {
   "cell_type": "code",
   "execution_count": null,
   "metadata": {},
   "outputs": [],
   "source": [
    "def create_oz_student(name, python, database, Django, AWS):\n",
    "    return {\n",
    "        \"name\": name,\n",
    "        \"python\": python,\n",
    "        \"database\": database,\n",
    "        \"Django\": Django,\n",
    "        \"AWS\": AWS,\n",
    "    }\n",
    "\n",
    "def get_sum(student):\n",
    "    return student[\"python\"] + student[\"database\"] + student[\"Django\"] + student[\"AWS\"]\n",
    "\n",
    "def get_average(student):\n",
    "    return get_sum(student) / 4\n",
    "\n",
    "def to_string(student):\n",
    "    return f'{student[\"name\"]}\\t{get_sum(student)}\\t{get_average(student)}'\n",
    "\n",
    "\n",
    "oz_students = [\n",
    "    create_oz_student(\"백현우\", 4, 3, 3, 2),\n",
    "    create_oz_student(\"홍혜인\", 4, 5, 2, 4),\n",
    "    create_oz_student(\"윤은성\", 3, 4, 4, 1),\n",
    "    create_oz_student(\"홍수철\", 2, 3, 1, 5)\n",
    "]\n",
    "\n",
    "print(\"이름\", \"총점\", \"평균\", sep=\"\\t\")\n",
    "\n",
    "for student in oz_students:\n",
    "    print(to_string(student))"
   ]
  },
  {
   "cell_type": "markdown",
   "metadata": {},
   "source": [
    "- 객체와 관련 코드를 분리할 수 있게 하는 것이 객체 지향 프로그램의 핵심\n",
    "- 개발자들은 이러한 객체 지향 프로그램을 반복적으로 만들다보니 이러한 구조를 자동으로 만들어줄 클래스 구조를 만들게 됨\n",
    "~\n",
    "클래스를 선언하는 구조는 아래와 같다\n",
    "~\n",
    "```\n",
    "class 클래스이름:\n",
    "    클래스 내용\n",
    "```\n",
    "\n",
    "클래스 이름의 앞글자는 무조건 대문자 -> 모두의 약속. oz_students -> Oz_students\n"
   ]
  },
  {
   "cell_type": "code",
   "execution_count": null,
   "metadata": {},
   "outputs": [],
   "source": [
    "class CreateOzStudent:\n",
    "    pass\n",
    "#클래스 이름과 같은 함수(생성자)를 사용해서 객체를 만든다.\n",
    "#여기서 프로그래밍 언어로 함수(생성자)로 생성된 객체를 인스턴스라고 함\n",
    "# class CreateOzStudent 클래스와 동일한 이름의 CreateOzStudent() 함수를 사용해 객체를 만드는데\n",
    "# 이때 사용 CreateOzStudent() 함수를 생성자함수 라고 함\n",
    "#student => 클래스를 이용해 만들어진 객체를 인스턴스라고 함\n",
    "\n",
    "student = CreateOzStudent()\n",
    "\n",
    "oz_students = [\n",
    "    CreateOzStudent(\"백현우\", 4, 3, 3, 2),\n",
    "    CreateOzStudent(\"홍혜인\", 4, 5, 2, 4),\n",
    "    CreateOzStudent(\"윤은성\", 3, 4, 4, 1),\n",
    "    CreateOzStudent(\"홍수철\", 2, 3, 1, 5)\n",
    "]"
   ]
  }
 ],
 "metadata": {
  "kernelspec": {
   "display_name": "Python 3",
   "language": "python",
   "name": "python3"
  },
  "language_info": {
   "codemirror_mode": {
    "name": "ipython",
    "version": 3
   },
   "file_extension": ".py",
   "mimetype": "text/x-python",
   "name": "python",
   "nbconvert_exporter": "python",
   "pygments_lexer": "ipython3",
   "version": "3.9.6"
  }
 },
 "nbformat": 4,
 "nbformat_minor": 2
}
