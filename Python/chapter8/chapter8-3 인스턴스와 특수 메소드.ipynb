{
 "cells": [
  {
   "cell_type": "markdown",
   "metadata": {},
   "source": [
    "- isinstance(): 첫번째 매개변수에는 인스턴스(객체), 두번째 매개변수에는 클래스를 입력해주면  \n",
    "두번째 매개변수로 입력한 클래스 기반으로 인스턴스가 생성되었는지 True, False로 반환해줌\n"
   ]
  },
  {
   "cell_type": "code",
   "execution_count": 2,
   "metadata": {},
   "outputs": [
    {
     "name": "stdout",
     "output_type": "stream",
     "text": [
      "isinstance(student, Student): True\n"
     ]
    }
   ],
   "source": [
    "class Student:\n",
    "    def __init__(self):\n",
    "        pass\n",
    "\n",
    "student = Student()\n",
    "\n",
    "print(\"isinstance(student, Student):\", isinstance(student, Student))"
   ]
  },
  {
   "cell_type": "markdown",
   "metadata": {},
   "source": [
    "Student 클래스로 만든 클래스가 student이기때문에 True가 출력됨\n",
    "\n",
    "지금부터는 isinstance()함수를 이용해 여러개의 클래스에서 생성된 인스턴스를 구분해 처리하는 코드를 작성\n"
   ]
  },
  {
   "cell_type": "code",
   "execution_count": 3,
   "metadata": {},
   "outputs": [
    {
     "name": "stdout",
     "output_type": "stream",
     "text": [
      "파이썬을 수강중임.\n",
      "파이썬을 수강중임.\n",
      "파이썬을 수강중임.\n",
      "자바를 수강중임\n",
      "파이썬을 수강중임.\n"
     ]
    }
   ],
   "source": [
    "class Python:\n",
    "    def python(self):\n",
    "        print(\"파이썬을 수강중임.\")\n",
    "\n",
    "class Java:\n",
    "    def java(self):\n",
    "        print(\"자바를 수강중임\")\n",
    "\n",
    "programming_subjects = [Python(), Python(), Python(), Java(), Python()]\n",
    "\n",
    "for subject in programming_subjects:\n",
    "    if isinstance(subject, Python):\n",
    "        subject.python()\n",
    "    elif isinstance(subject, Java):\n",
    "        subject.java()"
   ]
  },
  {
   "cell_type": "code",
   "execution_count": null,
   "metadata": {},
   "outputs": [],
   "source": [
    "class Student:\n",
    "    def __init__(self):\n",
    "        pass\n",
    "\n",
    "student = Student().\n",
    "\n",
    "print(\"isinstance(student, Student):\", isinstance(student, Student))"
   ]
  },
  {
   "cell_type": "markdown",
   "metadata": {},
   "source": [
    "__이름__ 의 형태의 네이밍을 가짐\n",
    "\n",
    "__str__() 이란 이름으로 기존의 to_string 함수의 기능을 대신하는 함수를 대체해보자\n",
    "\n",
    "참고로 __str__로 정의하게 되면 str()만 입력해도 호출가능함\n",
    "\n",
    "기존의 함주 중 호출 부분인 코드를 변경\n",
    "print(student.to_string()) -> print(str(student))"
   ]
  },
  {
   "cell_type": "code",
   "execution_count": 8,
   "metadata": {},
   "outputs": [
    {
     "name": "stdout",
     "output_type": "stream",
     "text": [
      "이름\t총점\t평균\n",
      "백현우\t12\t3.0\n",
      "홍혜인\t15\t3.75\n",
      "윤은성\t12\t3.0\n",
      "홍수철\t11\t2.75\n",
      "정경희\t40\t10.0\n"
     ]
    }
   ],
   "source": [
    "class CreateOzStudents:\n",
    "    def __init__(self, name, python, database, Django, AWS):\n",
    "        self.name = name\n",
    "        self.python = python\n",
    "        self.database = database\n",
    "        self.Django = Django\n",
    "        self.AWS = AWS\n",
    "\n",
    "    def get_sum(self):\n",
    "        return self.python + self.database + self.Django + self.AWS\n",
    "\n",
    "    def get_average(self):\n",
    "        return self.get_sum() / 4\n",
    "    \n",
    "    def __str__(self):\n",
    "        return f'{self.name}\\t{self.get_sum()}\\t{self.get_average()}'\n",
    "\n",
    "oz_students = [\n",
    "    CreateOzStudents(\"백현우\",4, 3, 3, 2),\n",
    "    CreateOzStudents(\"홍혜인\",4, 5, 2, 4),\n",
    "    CreateOzStudents(\"윤은성\",3, 4, 4, 1),\n",
    "    CreateOzStudents(\"홍수철\",2, 3, 1, 5),\n",
    "    CreateOzStudents(\"정경희\",10,10,10,10)\n",
    "]\n",
    "\n",
    "print(\"이름\", \"총점\", \"평균\", sep=\"\\t\")\n",
    "for student in oz_students:\n",
    "    print(CreateOzStudents.__str__(student))"
   ]
  },
  {
   "cell_type": "code",
   "execution_count": null,
   "metadata": {},
   "outputs": [],
   "source": []
  }
 ],
 "metadata": {
  "kernelspec": {
   "display_name": "Python 3",
   "language": "python",
   "name": "python3"
  },
  "language_info": {
   "codemirror_mode": {
    "name": "ipython",
    "version": 3
   },
   "file_extension": ".py",
   "mimetype": "text/x-python",
   "name": "python",
   "nbconvert_exporter": "python",
   "pygments_lexer": "ipython3",
   "version": "3.9.6"
  }
 },
 "nbformat": 4,
 "nbformat_minor": 2
}
