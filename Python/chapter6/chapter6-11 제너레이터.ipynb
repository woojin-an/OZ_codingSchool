{
 "cells": [
  {
   "cell_type": "markdown",
   "metadata": {},
   "source": [
    "제너레이터는 이터레이터를 생성하는 객체이다.\n",
    "  (이터레이터: 순서대로 다음값을 리턴할 수 있는 객체로 자체적으로 내장하고 있는 next메소드를 통해 다음값을 가져옴)\n",
    "\n",
    "제너레이터는 함수안에 yield라는 키워드를 사용해 만들 수 있다.\n",
    "\n",
    "특이하게 함수안에 yield라는 키워드가 어떤 동작을 하든 하지않든 있기만해도 제너레이터로 인식됨\n",
    "\n",
    "단, 제너레이터함수가 되면 호출해도 함수 내부의 코드가 작동하질 않음"
   ]
  },
  {
   "cell_type": "code",
   "execution_count": 4,
   "metadata": {},
   "outputs": [
    {
     "name": "stdout",
     "output_type": "stream",
     "text": [
      "첫번째 출력\n",
      "두번째 출력\n",
      "<generator object test at 0x115af8cf0>\n"
     ]
    }
   ],
   "source": [
    "def test():\n",
    "    print(\"제너레이터 실습 코드입니다.\")\n",
    "    yield \"test\"\n",
    "\n",
    "print(\"첫번째 출력\")\n",
    "test()\n",
    "\n",
    "print(\"두번째 출력\")\n",
    "test()\n",
    "\n",
    "print(test())"
   ]
  },
  {
   "cell_type": "markdown",
   "metadata": {},
   "source": [
    "기존대로라면 test()함수를 호출하면 '제너레이터 실습 코드입니다'가 출력되어야하나, 출력되지 않음\n",
    "\n",
    "test()함수 안에 yield 키워드로 인해 제너레이터함수가 되었고\n",
    "\n",
    "그로인해 함수를 호출해도 함수 내부의 코드가 실행되지 않은것임\n",
    "\n",
    "그러나 print()문으로 test()함수를 출력해보면 제너레이터로 출력됨.\n",
    "\n",
    "제너레이터는 어떻게 실행?  ->제너레이터 객체는 next() 함수를 사용해 함수 내부의 코드를 실행할 수 있음.\n",
    "\n",
    "next()함수를 실행하면 yield 키워드 부분까지만 실행이 됨. "
   ]
  },
  {
   "cell_type": "code",
   "execution_count": 5,
   "metadata": {},
   "outputs": [
    {
     "name": "stdout",
     "output_type": "stream",
     "text": [
      "네번째 출력\n",
      "첫번째 출력\n",
      "1\n",
      "다섯번째 출력\n",
      "두번째 출력\n",
      "2\n",
      "여섯번째 출력\n",
      "세번째 출력\n"
     ]
    },
    {
     "ename": "StopIteration",
     "evalue": "",
     "output_type": "error",
     "traceback": [
      "\u001b[0;31m---------------------------------------------------------------------------\u001b[0m",
      "\u001b[0;31mStopIteration\u001b[0m                             Traceback (most recent call last)",
      "Cell \u001b[0;32mIn[5], line 17\u001b[0m\n\u001b[1;32m     15\u001b[0m \u001b[38;5;28mprint\u001b[39m(y)\n\u001b[1;32m     16\u001b[0m \u001b[38;5;28mprint\u001b[39m(\u001b[38;5;124m\"\u001b[39m\u001b[38;5;124m여섯번째 출력\u001b[39m\u001b[38;5;124m\"\u001b[39m)\n\u001b[0;32m---> 17\u001b[0m z \u001b[38;5;241m=\u001b[39m \u001b[38;5;28;43mnext\u001b[39;49m\u001b[43m(\u001b[49m\u001b[43moutput\u001b[49m\u001b[43m)\u001b[49m\n\u001b[1;32m     18\u001b[0m \u001b[38;5;28mprint\u001b[39m(z)\n",
      "\u001b[0;31mStopIteration\u001b[0m: "
     ]
    }
   ],
   "source": [
    "def test():\n",
    "    print(\"첫번째 출력\")\n",
    "    yield 1\n",
    "    print(\"두번째 출력\")\n",
    "    yield 2\n",
    "    print(\"세번째 출력\")\n",
    "\n",
    "output = test()\n",
    "print(\"네번째 출력\")\n",
    "\n",
    "x = next(output)\n",
    "print(x)\n",
    "print(\"다섯번째 출력\")\n",
    "y = next(output)\n",
    "print(y)\n",
    "print(\"여섯번째 출력\")\n",
    "z = next(output)\n",
    "print(z)"
   ]
  },
  {
   "cell_type": "code",
   "execution_count": null,
   "metadata": {},
   "outputs": [],
   "source": []
  },
  {
   "cell_type": "code",
   "execution_count": null,
   "metadata": {},
   "outputs": [],
   "source": []
  }
 ],
 "metadata": {
  "kernelspec": {
   "display_name": "Python 3",
   "language": "python",
   "name": "python3"
  },
  "language_info": {
   "codemirror_mode": {
    "name": "ipython",
    "version": 3
   },
   "file_extension": ".py",
   "mimetype": "text/x-python",
   "name": "python",
   "nbconvert_exporter": "python",
   "pygments_lexer": "ipython3",
   "version": "3.9.6"
  }
 },
 "nbformat": 4,
 "nbformat_minor": 2
}
