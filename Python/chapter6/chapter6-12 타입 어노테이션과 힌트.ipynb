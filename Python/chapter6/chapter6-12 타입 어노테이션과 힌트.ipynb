{
 "cells": [
  {
   "cell_type": "markdown",
   "metadata": {},
   "source": [
    "동적 프로그래밍 언어인 파이썬에는 인터프리터가 코드를 실행하면서 타입을 추론한다.\n",
    "\n",
    "그리고 파이썬은 변수의 타입(type)이 고정되어 있지 않기 때문에 개발자가 원하면 언제든 변경 가능함."
   ]
  },
  {
   "cell_type": "code",
   "execution_count": 1,
   "metadata": {},
   "outputs": [
    {
     "name": "stdout",
     "output_type": "stream",
     "text": [
      "<class 'int'>\n",
      "<class 'str'>\n"
     ]
    }
   ],
   "source": [
    "num = 10\n",
    "print(type(num))\n",
    "\n",
    "num = \"10\"\n",
    "print(type(num))"
   ]
  },
  {
   "cell_type": "markdown",
   "metadata": {},
   "source": [
    "타입힌팅은 주석으로 제공  (그러나 일반 주석과 혼동되어 시인성이 떨어짐)"
   ]
  },
  {
   "cell_type": "code",
   "execution_count": 2,
   "metadata": {},
   "outputs": [
    {
     "data": {
      "text/plain": [
       "1000"
      ]
     },
     "execution_count": 2,
     "metadata": {},
     "output_type": "execute_result"
    }
   ],
   "source": [
    "# 직육면체의 부피를 구하는 함수\n",
    "def oz(x,y,h):\n",
    "    #type:(int, int, int) -> int\n",
    "    return x * y * h\n",
    "oz(10,10,10)"
   ]
  },
  {
   "cell_type": "markdown",
   "metadata": {},
   "source": [
    "반면 타입힌팅에서는 타입 어노테이션 이라는 새로운 방법으로 파이썬 코드의 타입 표시를 표준화 할 수 있음\n",
    "\n",
    "타입 표시가 표준화되면서 코드 편집기에서도 해석이 가능하고 코드 자동 완성이나 정적 타입 체킹에도 사용할 수 있게 됨\n",
    "\n",
    "다음은 주석으로 타입 정보를 제공했던 코드를 타입 어노테이션으로 변경"
   ]
  },
  {
   "cell_type": "code",
   "execution_count": 5,
   "metadata": {},
   "outputs": [
    {
     "data": {
      "text/plain": [
       "1000"
      ]
     },
     "execution_count": 5,
     "metadata": {},
     "output_type": "execute_result"
    }
   ],
   "source": [
    "# 직육면체의 부피를 구하는 함수\n",
    "def oz(x: int, y: int, h: int) -> int:\n",
    "    return x * y * h\n",
    "\n",
    "oz(10,10,10)"
   ]
  },
  {
   "cell_type": "markdown",
   "metadata": {},
   "source": [
    "타입 힌팅은 어떠한 제약사항을 만들거나 강요하지 않음\n",
    "\n",
    "잘못 입력하여도 오류나 경고가 발생하지 않음\n",
    "\n",
    "어디까지나 도구임"
   ]
  },
  {
   "cell_type": "code",
   "execution_count": 7,
   "metadata": {},
   "outputs": [
    {
     "name": "stdout",
     "output_type": "stream",
     "text": [
      "hunt\n"
     ]
    }
   ],
   "source": [
    "my_dog : str = \"hunt\"\n",
    "my_dog_age : int = 7\n",
    "\n",
    "dogs: list[str] = [\"닥스훈트\", \"시바견\", \"웰시코기\", \"이탈리안그레이하운드\"]\n",
    "\n",
    "dogs: dict[str, int] = {\n",
    "    \"닥스훈트\" : 7,\n",
    "    \"시바견\" : 5,\n",
    "    \"웰시코기\" : 6,\n",
    "    \"이탈리안그레이하운드\": 3,\n",
    "}\n",
    "print(my_dog)"
   ]
  },
  {
   "cell_type": "markdown",
   "metadata": {},
   "source": [
    "<함수타입 어노테이션>\n",
    "\n",
    "함수에 타입 헌팅을 적용할 때는 인자타입과 반환타입 두곳에 추가할 수 있음\n",
    "\n",
    "인자에 타입 어노테이션을 추가할 때는 변수와 동일한 문법을 사용하며, 반환값에 대한 타입을 추가할 때는 화살표를 사용"
   ]
  },
  {
   "cell_type": "code",
   "execution_count": 13,
   "metadata": {},
   "outputs": [
    {
     "name": "stdout",
     "output_type": "stream",
     "text": [
      "간식줄게해피\n"
     ]
    }
   ],
   "source": [
    "def hunt(name: str) -> str:\n",
    "    return name[0]\n",
    "\n",
    "def hunt_info(name: str, age: int = 7) -> str:\n",
    "    return name + str(age)\n",
    "\n",
    "def hunt_happy_time(name: str) -> None:\n",
    "    print(\"간식줄게\" + name)\n",
    "\n",
    "def hunt_bow(message: str, times: int = 10) -> list[str]:\n",
    "    return [message] * times\n",
    "\n"
   ]
  },
  {
   "cell_type": "code",
   "execution_count": null,
   "metadata": {},
   "outputs": [],
   "source": []
  }
 ],
 "metadata": {
  "kernelspec": {
   "display_name": "Python 3",
   "language": "python",
   "name": "python3"
  },
  "language_info": {
   "codemirror_mode": {
    "name": "ipython",
    "version": 3
   },
   "file_extension": ".py",
   "mimetype": "text/x-python",
   "name": "python",
   "nbconvert_exporter": "python",
   "pygments_lexer": "ipython3",
   "version": "3.9.6"
  }
 },
 "nbformat": 4,
 "nbformat_minor": 2
}
