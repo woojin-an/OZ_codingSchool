{
 "cells": [
  {
   "cell_type": "markdown",
   "metadata": {},
   "source": [
    "기존의 방식 외 함수는 함수 자체를 매개변수로 받을 수 있다.\n",
    "\n",
    "함수 자첼르 매개변수로 사용하기 쉽도록 돕는 기능을 '람다' 라고 함.\n",
    "\n",
    "우선, 함수의 매개변수로 함수를 전달하는 방법에 대한 코드이다.  \n",
    "(함수의 매개변수로 사용되는 함수를 콜백함수 라고 함)"
   ]
  },
  {
   "cell_type": "code",
   "execution_count": 1,
   "metadata": {},
   "outputs": [
    {
     "name": "stdout",
     "output_type": "stream",
     "text": [
      "파이썬 이건 또 무슨 개념이야?\n",
      "파이썬 이건 또 무슨 개념이야?\n",
      "파이썬 이건 또 무슨 개념이야?\n",
      "파이썬 이건 또 무슨 개념이야?\n",
      "파이썬 이건 또 무슨 개념이야?\n"
     ]
    }
   ],
   "source": [
    "def oz_call(function):\n",
    "    for i in range(5):\n",
    "        function()\n",
    "\n",
    "def talk():\n",
    "    print(\"파이썬 이건 또 무슨 개념이야?\")\n",
    "\n",
    "oz_call(talk)"
   ]
  },
  {
   "cell_type": "markdown",
   "metadata": {},
   "source": [
    "함수를 매개변수로 사용하는 대표적인 내장 함수로 map() 함수와 filter() 함수가 있다.\n",
    "\n",
    "map(): 리스트의 요소를 함수에 넣고 리턴된 값으로 새로운 리스트를 구성해줌\n",
    "filter(): 리스트의 요소를 함수에 넣고 리턴된 값이 True인 값만을 새로운 리스트로 구성해줌"
   ]
  },
  {
   "cell_type": "code",
   "execution_count": 5,
   "metadata": {},
   "outputs": [
    {
     "name": "stdout",
     "output_type": "stream",
     "text": [
      "map결과 : <map object at 0x10957d580>\n",
      "map결과의 list 형변환 : [1, 4, 9, 16, 25, 36, 49, 64, 81, 100]\n"
     ]
    }
   ],
   "source": [
    "#자기 자신을 곱한 결과를 새로운 list를 만들어주는 map() 함수 코드\n",
    "def square(i):\n",
    "    return i * i\n",
    "\n",
    "numbers_list = [1,2,3,4,5,6,7,8,9,10]\n",
    "\n",
    "result = map(square, numbers_list)\n",
    "print(\"map결과 :\", result)\n",
    "print(\"map결과의 list 형변환 :\", list(result))\n"
   ]
  },
  {
   "cell_type": "code",
   "execution_count": 7,
   "metadata": {},
   "outputs": [
    {
     "name": "stdout",
     "output_type": "stream",
     "text": [
      "map결과 : <filter object at 0x10957d8e0>\n",
      "map결과의 list 형변환 : [1, 2, 3, 4, 5, 6, 7, 8, 9, 10]\n"
     ]
    }
   ],
   "source": [
    "#조건에 맞는 값만을 이용해 새로운 list를 만들어주는 filter()함수 코드\n",
    "\n",
    "def under(i):\n",
    "    return i < 5\n",
    "\n",
    "numbers_list = [1,2,3,4,5,6,7,8,9,10]\n",
    "\n",
    "result = filter(under, numbers_list)\n",
    "print(\"map결과 :\", result)\n",
    "print(\"map결과의 list 형변환 :\", list(result))"
   ]
  },
  {
   "cell_type": "markdown",
   "metadata": {},
   "source": [
    "lambda : 간단한 함수를 쉽게 선언하는 방법으로 이름이 없는 익명함수를 만들 수 있다.\n",
    "lambda 매개변수 : 리턴값\n",
    "\n",
    "구조가 굉장이 간단함.  이전코드에 lambda를 활용하여 보자"
   ]
  },
  {
   "cell_type": "code",
   "execution_count": 8,
   "metadata": {},
   "outputs": [
    {
     "name": "stdout",
     "output_type": "stream",
     "text": [
      "map결과 : <map object at 0x10953dca0>\n",
      "map결과의 list 형변환 : [1, 4, 9, 16, 25, 36, 49, 64, 81, 100]\n"
     ]
    }
   ],
   "source": [
    "square = lambda i : i * i\n",
    "\n",
    "numbers_list = [1,2,3,4,5,6,7,8,9,10]\n",
    "\n",
    "result = map(square, numbers_list)\n",
    "print(\"map결과 :\", result)\n",
    "print(\"map결과의 list 형변환 :\", list(result))"
   ]
  },
  {
   "cell_type": "code",
   "execution_count": 9,
   "metadata": {},
   "outputs": [
    {
     "name": "stdout",
     "output_type": "stream",
     "text": [
      "map결과 : <filter object at 0x10953da60>\n",
      "map결과의 list 형변환 : [1, 2, 3, 4]\n"
     ]
    }
   ],
   "source": [
    "under = lambda i : i < 5\n",
    "\n",
    "numbers_list = [1,2,3,4,5,6,7,8,9,10]\n",
    "\n",
    "result = filter(under, numbers_list)\n",
    "print(\"map결과 :\", result)\n",
    "print(\"map결과의 list 형변환 :\", list(result))"
   ]
  },
  {
   "cell_type": "code",
   "execution_count": 11,
   "metadata": {},
   "outputs": [
    {
     "name": "stdout",
     "output_type": "stream",
     "text": [
      "[1, 4, 9, 16, 25, 36, 49, 64, 81, 100]\n"
     ]
    }
   ],
   "source": [
    "numbers_list = [1,2,3,4,5,6,7,8,9,10]\n",
    "\n",
    "result = map(lambda i : i * i, numbers_list)\n",
    "print(list(result))"
   ]
  },
  {
   "cell_type": "code",
   "execution_count": 13,
   "metadata": {},
   "outputs": [
    {
     "name": "stdout",
     "output_type": "stream",
     "text": [
      "[1, 2, 3, 4]\n"
     ]
    }
   ],
   "source": [
    "numbers_list = [1,2,3,4,5,6,7,8,9,10]\n",
    "\n",
    "result = filter(lambda i : i < 5, numbers_list)\n",
    "print(list(result))"
   ]
  },
  {
   "cell_type": "code",
   "execution_count": null,
   "metadata": {},
   "outputs": [],
   "source": []
  }
 ],
 "metadata": {
  "kernelspec": {
   "display_name": "Python 3",
   "language": "python",
   "name": "python3"
  },
  "language_info": {
   "codemirror_mode": {
    "name": "ipython",
    "version": 3
   },
   "file_extension": ".py",
   "mimetype": "text/x-python",
   "name": "python",
   "nbconvert_exporter": "python",
   "pygments_lexer": "ipython3",
   "version": "3.9.6"
  }
 },
 "nbformat": 4,
 "nbformat_minor": 2
}
