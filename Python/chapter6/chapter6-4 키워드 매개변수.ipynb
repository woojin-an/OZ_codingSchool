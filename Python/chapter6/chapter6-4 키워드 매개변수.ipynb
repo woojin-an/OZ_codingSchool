{
 "cells": [
  {
   "cell_type": "code",
   "execution_count": 2,
   "metadata": {},
   "outputs": [
    {
     "ename": "TypeError",
     "evalue": "'str' object cannot be interpreted as an integer",
     "output_type": "error",
     "traceback": [
      "\u001b[0;31m---------------------------------------------------------------------------\u001b[0m",
      "\u001b[0;31mTypeError\u001b[0m                                 Traceback (most recent call last)",
      "Cell \u001b[0;32mIn[2], line 9\u001b[0m\n\u001b[1;32m      6\u001b[0m             \u001b[38;5;28mprint\u001b[39m(value)\n\u001b[1;32m      7\u001b[0m         \u001b[38;5;28mprint\u001b[39m()\n\u001b[0;32m----> 9\u001b[0m \u001b[43moz\u001b[49m\u001b[43m(\u001b[49m\u001b[38;5;124;43m\"\u001b[39;49m\u001b[38;5;124;43m기본 매개변수 다음에\u001b[39;49m\u001b[38;5;124;43m\"\u001b[39;49m\u001b[43m,\u001b[49m\u001b[43m \u001b[49m\u001b[38;5;124;43m\"\u001b[39;49m\u001b[38;5;124;43m가변 매개변수를\u001b[39;49m\u001b[38;5;124;43m\"\u001b[39;49m\u001b[43m,\u001b[49m\u001b[43m \u001b[49m\u001b[38;5;124;43m\"\u001b[39;49m\u001b[38;5;124;43m넣을 수 있을까요?\u001b[39;49m\u001b[38;5;124;43m\"\u001b[39;49m\u001b[43m)\u001b[49m\n",
      "Cell \u001b[0;32mIn[2], line 4\u001b[0m, in \u001b[0;36moz\u001b[0;34m(n, *values)\u001b[0m\n\u001b[1;32m      3\u001b[0m \u001b[38;5;28;01mdef\u001b[39;00m \u001b[38;5;21moz\u001b[39m (n\u001b[38;5;241m=\u001b[39m\u001b[38;5;241m3\u001b[39m, \u001b[38;5;241m*\u001b[39mvalues):\n\u001b[0;32m----> 4\u001b[0m     \u001b[38;5;28;01mfor\u001b[39;00m i \u001b[38;5;129;01min\u001b[39;00m \u001b[38;5;28;43mrange\u001b[39;49m\u001b[43m(\u001b[49m\u001b[43mn\u001b[49m\u001b[43m)\u001b[49m:\n\u001b[1;32m      5\u001b[0m         \u001b[38;5;28;01mfor\u001b[39;00m value \u001b[38;5;129;01min\u001b[39;00m values:\n\u001b[1;32m      6\u001b[0m             \u001b[38;5;28mprint\u001b[39m(value)\n",
      "\u001b[0;31mTypeError\u001b[0m: 'str' object cannot be interpreted as an integer"
     ]
    }
   ],
   "source": [
    "#(기본 매개변수, 가변 매개변수)\n",
    "\n",
    "def oz (n=3, *values):\n",
    "    for i in range(n):\n",
    "        for value in values:\n",
    "            print(value)\n",
    "        print()\n",
    "\n",
    "oz(\"기본 매개변수 다음에\", \"가변 매개변수를\", \"넣을 수 있을까요?\")\n"
   ]
  },
  {
   "cell_type": "markdown",
   "metadata": {},
   "source": [
    "n 에 '기본 매개변수 다음에' 로 들어가면서 오류가 발생함\n",
    "\n",
    "그러면 반대로 가변매개변수를 앞에 두고 기본 매개변수를 뒤에 두면?"
   ]
  },
  {
   "cell_type": "code",
   "execution_count": 3,
   "metadata": {},
   "outputs": [
    {
     "name": "stdout",
     "output_type": "stream",
     "text": [
      "기본 매개변수 다음에\n",
      "가변 매개변수를\n",
      "넣을 수 있을까요?\n",
      "10\n",
      "\n",
      "기본 매개변수 다음에\n",
      "가변 매개변수를\n",
      "넣을 수 있을까요?\n",
      "10\n",
      "\n",
      "기본 매개변수 다음에\n",
      "가변 매개변수를\n",
      "넣을 수 있을까요?\n",
      "10\n",
      "\n"
     ]
    }
   ],
   "source": [
    "def oz (*values, n=3):\n",
    "    for i in range(n):\n",
    "        for value in values:\n",
    "            print(value)\n",
    "        print()\n",
    "\n",
    "oz(\"기본 매개변수 다음에\", \"가변 매개변수를\", \"넣을 수 있을까요?\", 10)"
   ]
  },
  {
   "cell_type": "markdown",
   "metadata": {},
   "source": [
    "가변매개변수에 10 까지 들어감\n",
    "이런 문제를 해결하기 위한 개념이 \"키워드 매개변수\" 임"
   ]
  },
  {
   "cell_type": "code",
   "execution_count": 5,
   "metadata": {},
   "outputs": [
    {
     "name": "stdout",
     "output_type": "stream",
     "text": [
      "안녕하세요"
     ]
    }
   ],
   "source": [
    "list = [\"안\", \"녕\", \"하\", \"세\", \"요\"]\n",
    "for i in list:\n",
    "    print(i, end=\"\")"
   ]
  },
  {
   "cell_type": "code",
   "execution_count": 8,
   "metadata": {},
   "outputs": [
    {
     "name": "stdout",
     "output_type": "stream",
     "text": [
      "2000\n",
      "None\n",
      "1000\n",
      "None\n",
      "125\n",
      "None\n"
     ]
    }
   ],
   "source": [
    "#직육면체 부피 구하기. 가로:x, 세로:y, 높이: h\n",
    "def oz(x,y=20,h=10):\n",
    "    print(x*y*h)\n",
    "\n",
    "# x식별자에 매개변수 10을 넣은 경우\n",
    "print(oz(10))\n",
    "# x식별자에 10을 넣고 y=10 이라는 키워드 매개변수를 이용한 경우\n",
    "print(oz(10, y=10))\n",
    "# 모든 매개변수를 키워드 매개변수로 넣은 경우\n",
    "print(oz(x=5,y=5,h=5))"
   ]
  },
  {
   "cell_type": "code",
   "execution_count": null,
   "metadata": {},
   "outputs": [],
   "source": []
  }
 ],
 "metadata": {
  "kernelspec": {
   "display_name": "Python 3",
   "language": "python",
   "name": "python3"
  },
  "language_info": {
   "codemirror_mode": {
    "name": "ipython",
    "version": 3
   },
   "file_extension": ".py",
   "mimetype": "text/x-python",
   "name": "python",
   "nbconvert_exporter": "python",
   "pygments_lexer": "ipython3",
   "version": "3.9.6"
  }
 },
 "nbformat": 4,
 "nbformat_minor": 2
}
