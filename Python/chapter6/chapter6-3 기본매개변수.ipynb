{
 "cells": [
  {
   "cell_type": "markdown",
   "metadata": {},
   "source": [
    "print() 함수의 필요매개변수  \n",
    "(*values: object, sep: str | None = \" \", end: str | None = \"\\n\", file: SupportsWrite[str] | None = None, flush: Literal[False] = False) -> None\n",
    "\n",
    "*values 뒤에 오는 매개변수인 sep: str | None = \" \", end: str | None = \"\\n\" 들은  \n",
    "마치 값을 할당하는 형태처럼 보이는 이 매개변수들은 모두 **기본 매개변수**임\n",
    "\n",
    "기본매개변수는 매개변수를 입력하지 않으면 함수 정의시 설정해놓은 기본값으로 대체됨  \n",
    "기본매개변수 사용시에도 제약이 있음\n",
    "* 기본 매개변수 뒤에는 일반 매개변수가 올 수 없음"
   ]
  },
  {
   "cell_type": "code",
   "execution_count": 2,
   "metadata": {},
   "outputs": [
    {
     "name": "stdout",
     "output_type": "stream",
     "text": [
      "일반 매개변수 다음에 기본 매개변수를 배치해야 함\n",
      "일반 매개변수 다음에 기본 매개변수를 배치해야 함\n"
     ]
    }
   ],
   "source": [
    "def oz(value, n=2):\n",
    "    for i in range(n):\n",
    "        print(value)\n",
    "\n",
    "oz(\"일반 매개변수 다음에 기본 매개변수를 배치해야 함\")"
   ]
  },
  {
   "cell_type": "code",
   "execution_count": 4,
   "metadata": {},
   "outputs": [
    {
     "name": "stdout",
     "output_type": "stream",
     "text": [
      "일반 매개변수 다음에 기본 매개변수를 배치해야 함\n",
      "일반 매개변수 다음에 기본 매개변수를 배치해야 함\n",
      "일반 매개변수 다음에 기본 매개변수를 배치해야 함\n",
      "일반 매개변수 다음에 기본 매개변수를 배치해야 함\n",
      "일반 매개변수 다음에 기본 매개변수를 배치해야 함\n",
      "일반 매개변수 다음에 기본 매개변수를 배치해야 함\n",
      "일반 매개변수 다음에 기본 매개변수를 배치해야 함\n",
      "일반 매개변수 다음에 기본 매개변수를 배치해야 함\n",
      "일반 매개변수 다음에 기본 매개변수를 배치해야 함\n",
      "일반 매개변수 다음에 기본 매개변수를 배치해야 함\n"
     ]
    }
   ],
   "source": [
    "# 기본매개변수도 변경하여 사용가능함\n",
    "def oz(value, n=2):\n",
    "    for i in range(n):\n",
    "        print(value)\n",
    "\n",
    "oz(\"일반 매개변수 다음에 기본 매개변수를 배치해야 함\", n=10)"
   ]
  },
  {
   "cell_type": "code",
   "execution_count": 6,
   "metadata": {},
   "outputs": [
    {
     "ename": "SyntaxError",
     "evalue": "non-default argument follows default argument (809384216.py, line 2)",
     "output_type": "error",
     "traceback": [
      "\u001b[0;36m  Cell \u001b[0;32mIn[6], line 2\u001b[0;36m\u001b[0m\n\u001b[0;31m    def oz(n=2, value):\u001b[0m\n\u001b[0m                     ^\u001b[0m\n\u001b[0;31mSyntaxError\u001b[0m\u001b[0;31m:\u001b[0m non-default argument follows default argument\n"
     ]
    }
   ],
   "source": [
    "#제약조건(일반매개변수 뒤에 기본매개변수를 두지 않은 경우)\n",
    "def oz(n=2, value):\n",
    "    for i in range(n):\n",
    "        print(value)\n",
    "\n",
    "oz(\"일반 매개변수 다음에 기본 매개변수를 배치해야 함\")"
   ]
  },
  {
   "cell_type": "code",
   "execution_count": null,
   "metadata": {},
   "outputs": [],
   "source": []
  }
 ],
 "metadata": {
  "kernelspec": {
   "display_name": "Python 3",
   "language": "python",
   "name": "python3"
  },
  "language_info": {
   "codemirror_mode": {
    "name": "ipython",
    "version": 3
   },
   "file_extension": ".py",
   "mimetype": "text/x-python",
   "name": "python",
   "nbconvert_exporter": "python",
   "pygments_lexer": "ipython3",
   "version": "3.9.6"
  }
 },
 "nbformat": 4,
 "nbformat_minor": 2
}
