{
 "cells": [
  {
   "cell_type": "markdown",
   "metadata": {},
   "source": [
    "return까지 배운 지금 기본 함수의 구조는 다음과 같음  \n",
    "def 함수 (매개변수):\n",
    "    변수 = 초기값\n",
    "    for, if, while 등의 문법으로 변수 처리\n",
    "        ....   \n",
    "    return 변수\n",
    "\n",
    "이러한 구조를 바탕으로 oz()함수를 만들어보자\n",
    "요구조건\n",
    "* start, end, multiple, 3개 매개변수를 이용해 start부터 시작하여 multiple씩 증가해 end에 도달하면 종료하는 함수  \n",
    "예) start=1, end=10, multiple=3 (출력)->1,4,7"
   ]
  },
  {
   "cell_type": "code",
   "execution_count": 6,
   "metadata": {},
   "outputs": [
    {
     "name": "stdout",
     "output_type": "stream",
     "text": [
      "1  4  7  \n",
      "1  6  \n",
      "1  6  11  16  21  26  31  36  41  46  51  56  61  66  71  76  81  86  91  96  \n"
     ]
    }
   ],
   "source": [
    "def multiple(start,end,multiple):\n",
    "    for i in range(start,end,multiple):\n",
    "        print(i, \" \", end=\"\")\n",
    "    print()\n",
    "\n",
    "multiple(1,10,3)\n",
    "multiple(1,10,5)\n",
    "multiple(1,100,5)"
   ]
  },
  {
   "cell_type": "code",
   "execution_count": 18,
   "metadata": {},
   "outputs": [
    {
     "name": "stdout",
     "output_type": "stream",
     "text": [
      "1  2  3  4  5  6  7  8  9  \n",
      "1  2  3  4  5  6  7  8  9  \n",
      "1  4  7  \n",
      "1  6  \n",
      "1  6  11  16  21  26  31  36  41  46  51  56  61  66  71  76  81  86  91  96  \n"
     ]
    }
   ],
   "source": [
    "def multiple(start=1,end=10,multiple=1):\n",
    "    for i in range(start,end,multiple):\n",
    "        print(i, \" \", end=\"\")\n",
    "    print()\n",
    "\n",
    "list=multiple()\n",
    "multiple()\n",
    "multiple(1,10,3)\n",
    "multiple(1,10,5)\n",
    "multiple(1,100,5)"
   ]
  },
  {
   "cell_type": "code",
   "execution_count": null,
   "metadata": {},
   "outputs": [],
   "source": []
  },
  {
   "cell_type": "code",
   "execution_count": null,
   "metadata": {},
   "outputs": [],
   "source": []
  },
  {
   "cell_type": "code",
   "execution_count": null,
   "metadata": {},
   "outputs": [],
   "source": []
  }
 ],
 "metadata": {
  "kernelspec": {
   "display_name": "Python 3",
   "language": "python",
   "name": "python3"
  },
  "language_info": {
   "codemirror_mode": {
    "name": "ipython",
    "version": 3
   },
   "file_extension": ".py",
   "mimetype": "text/x-python",
   "name": "python",
   "nbconvert_exporter": "python",
   "pygments_lexer": "ipython3",
   "version": "3.9.6"
  }
 },
 "nbformat": 4,
 "nbformat_minor": 2
}
