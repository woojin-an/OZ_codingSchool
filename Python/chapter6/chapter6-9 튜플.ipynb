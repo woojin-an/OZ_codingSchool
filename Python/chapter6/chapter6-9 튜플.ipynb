{
 "cells": [
  {
   "cell_type": "markdown",
   "metadata": {},
   "source": [
    "튜플은 list와 비슷한 시퀀스 자료형임. 단, list와 차이점은 요소를 바꿀 수 없음\n",
    "\n",
    "튜플을 생성할때는 소괄호()를 이용\n",
    "\n",
    "변수명 = (데이터1,데이터2,데이터3...)"
   ]
  },
  {
   "cell_type": "code",
   "execution_count": 2,
   "metadata": {},
   "outputs": [
    {
     "name": "stdout",
     "output_type": "stream",
     "text": [
      "(1, 2, 3)\n",
      "<class 'int'>\n"
     ]
    }
   ],
   "source": [
    "oz_tuple = (1,2,3)\n",
    "print(oz_tuple)\n",
    "print(oz_tuple[1])"
   ]
  },
  {
   "cell_type": "code",
   "execution_count": 3,
   "metadata": {},
   "outputs": [
    {
     "ename": "TypeError",
     "evalue": "'tuple' object does not support item assignment",
     "output_type": "error",
     "traceback": [
      "\u001b[0;31m---------------------------------------------------------------------------\u001b[0m",
      "\u001b[0;31mTypeError\u001b[0m                                 Traceback (most recent call last)",
      "Cell \u001b[0;32mIn[3], line 1\u001b[0m\n\u001b[0;32m----> 1\u001b[0m \u001b[43moz_tuple\u001b[49m\u001b[43m[\u001b[49m\u001b[38;5;241;43m2\u001b[39;49m\u001b[43m]\u001b[49m\u001b[38;5;241m=\u001b[39m\u001b[38;5;241m5\u001b[39m\n",
      "\u001b[0;31mTypeError\u001b[0m: 'tuple' object does not support item assignment"
     ]
    }
   ],
   "source": [
    "#값을 바꿀 수 없음\n",
    "oz_tuple[2]=5"
   ]
  },
  {
   "cell_type": "markdown",
   "metadata": {},
   "source": [
    "튜플을 이용해 괄호 없이 여러값을 할당할 수 있음\n"
   ]
  },
  {
   "cell_type": "code",
   "execution_count": 4,
   "metadata": {},
   "outputs": [
    {
     "name": "stdout",
     "output_type": "stream",
     "text": [
      "oz_tuple: (1, 2, 3, 4)\n",
      "oz_tuple type: <class 'tuple'>\n"
     ]
    }
   ],
   "source": [
    "oz_tuple = 1,2,3,4\n",
    "\n",
    "print(\"oz_tuple:\", oz_tuple)\n",
    "print(\"oz_tuple type:\", type(oz_tuple))\n"
   ]
  },
  {
   "cell_type": "code",
   "execution_count": 5,
   "metadata": {},
   "outputs": [
    {
     "name": "stdout",
     "output_type": "stream",
     "text": [
      "1\n",
      "2\n",
      "3\n"
     ]
    }
   ],
   "source": [
    "x, y, z = 1, 2, 3\n",
    "print(x)\n",
    "print(y)\n",
    "print(z)\n",
    "\n"
   ]
  },
  {
   "cell_type": "markdown",
   "metadata": {},
   "source": [
    "튜플 내부의 값을 변경할 수는 없지만, 교환할 수 있음"
   ]
  },
  {
   "cell_type": "code",
   "execution_count": 6,
   "metadata": {},
   "outputs": [
    {
     "name": "stdout",
     "output_type": "stream",
     "text": [
      "x:  1\n",
      "y:  2\n",
      "\n",
      "x:  2\n",
      "y:  1\n"
     ]
    }
   ],
   "source": [
    "x, y = 1, 2\n",
    "print(\"x: \", x)\n",
    "print(\"y: \", y)\n",
    "print()\n",
    "\n",
    "x,y=y,x\n",
    "print(\"x: \", x)\n",
    "print(\"y: \", y)\n"
   ]
  },
  {
   "cell_type": "markdown",
   "metadata": {},
   "source": [
    "튜플을 이용하면 여러개의 값을 리턴할 수 있다.\n"
   ]
  },
  {
   "cell_type": "code",
   "execution_count": 10,
   "metadata": {},
   "outputs": [
    {
     "name": "stdout",
     "output_type": "stream",
     "text": [
      "x: 1\n"
     ]
    }
   ],
   "source": [
    "def oz_tuple():\n",
    "    return (1, 2)\n",
    "x,y = oz_tuple()\n",
    "print(\"x:\",x)"
   ]
  },
  {
   "cell_type": "code",
   "execution_count": 13,
   "metadata": {},
   "outputs": [
    {
     "name": "stdout",
     "output_type": "stream",
     "text": [
      "0 1\n",
      "1 2\n",
      "2 3\n",
      "3 4\n"
     ]
    }
   ],
   "source": [
    "#튜플을 이용한 내부함수들\n",
    "#enumerate()의 i, fruit 는 (i, fruit)이지만 괄호를 생략한 상태입니다.\n",
    "\n",
    "#인덱스를 튜플형태로 만들어줌\n",
    "for i, fruit in enumerate([1,2,3,4]):\n",
    "    print(i, fruit)"
   ]
  },
  {
   "cell_type": "code",
   "execution_count": 14,
   "metadata": {},
   "outputs": [
    {
     "name": "stdout",
     "output_type": "stream",
     "text": [
      "몫: 2\n",
      "나머지: 1\n"
     ]
    }
   ],
   "source": [
    "#divmode() 사용 시 튜플 형태로 몫과 나머지 반환\n",
    "\n",
    "a, b = 7, 3\n",
    "x, y = divmod(a,b)\n",
    "print(\"몫:\", x)\n",
    "print(\"나머지:\", y)"
   ]
  },
  {
   "cell_type": "markdown",
   "metadata": {},
   "source": []
  }
 ],
 "metadata": {
  "kernelspec": {
   "display_name": "Python 3",
   "language": "python",
   "name": "python3"
  },
  "language_info": {
   "codemirror_mode": {
    "name": "ipython",
    "version": 3
   },
   "file_extension": ".py",
   "mimetype": "text/x-python",
   "name": "python",
   "nbconvert_exporter": "python",
   "pygments_lexer": "ipython3",
   "version": "3.9.6"
  }
 },
 "nbformat": 4,
 "nbformat_minor": 2
}
