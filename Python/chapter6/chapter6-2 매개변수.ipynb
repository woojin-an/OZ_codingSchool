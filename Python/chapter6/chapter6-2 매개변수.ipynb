{
 "cells": [
  {
   "cell_type": "markdown",
   "metadata": {},
   "source": [
    "함수를 정의할 때 사용하는 매개변수의 개수와 호출시 입력되는 매개변수의 개수는 동일해야함.\n",
    "\n",
    "선언과 호출에 사용된 매개변수는 2개  \n",
    "def oz(message, n):  \n",
    "    for i in range(n):  \n",
    "        print(message)  \n",
    "\n",
    "oz('OZ코딩스쿨', 5)\n",
    "1. 매개변수를 적게 입력했을때\n",
    "2. 매개변수를 많이 입력했을때"
   ]
  },
  {
   "cell_type": "code",
   "execution_count": 1,
   "metadata": {},
   "outputs": [
    {
     "ename": "TypeError",
     "evalue": "oz() missing 1 required positional argument: 'n'",
     "output_type": "error",
     "traceback": [
      "\u001b[0;31m---------------------------------------------------------------------------\u001b[0m",
      "\u001b[0;31mTypeError\u001b[0m                                 Traceback (most recent call last)",
      "Cell \u001b[0;32mIn[1], line 5\u001b[0m\n\u001b[1;32m      3\u001b[0m     \u001b[38;5;28;01mfor\u001b[39;00m i \u001b[38;5;129;01min\u001b[39;00m \u001b[38;5;28mrange\u001b[39m(n):\n\u001b[1;32m      4\u001b[0m         \u001b[38;5;28mprint\u001b[39m(message)\n\u001b[0;32m----> 5\u001b[0m \u001b[43moz\u001b[49m\u001b[43m(\u001b[49m\u001b[38;5;124;43m'\u001b[39;49m\u001b[38;5;124;43moz코딩스쿨\u001b[39;49m\u001b[38;5;124;43m'\u001b[39;49m\u001b[43m)\u001b[49m\n",
      "\u001b[0;31mTypeError\u001b[0m: oz() missing 1 required positional argument: 'n'"
     ]
    }
   ],
   "source": [
    "#매개변수를 적게 입력한 경우\n",
    "def oz(message, n):\n",
    "    for i in range(n):\n",
    "        print(message)\n",
    "oz('oz코딩스쿨')"
   ]
  },
  {
   "cell_type": "code",
   "execution_count": 2,
   "metadata": {},
   "outputs": [
    {
     "ename": "TypeError",
     "evalue": "oz() takes 2 positional arguments but 3 were given",
     "output_type": "error",
     "traceback": [
      "\u001b[0;31m---------------------------------------------------------------------------\u001b[0m",
      "\u001b[0;31mTypeError\u001b[0m                                 Traceback (most recent call last)",
      "Cell \u001b[0;32mIn[2], line 6\u001b[0m\n\u001b[1;32m      3\u001b[0m     \u001b[38;5;28;01mfor\u001b[39;00m i \u001b[38;5;129;01min\u001b[39;00m \u001b[38;5;28mrange\u001b[39m(n):\n\u001b[1;32m      4\u001b[0m         \u001b[38;5;28mprint\u001b[39m(message)\n\u001b[0;32m----> 6\u001b[0m \u001b[43moz\u001b[49m\u001b[43m(\u001b[49m\u001b[38;5;124;43m'\u001b[39;49m\u001b[38;5;124;43moz코딩스쿨\u001b[39;49m\u001b[38;5;124;43m'\u001b[39;49m\u001b[43m,\u001b[49m\u001b[43m \u001b[49m\u001b[38;5;241;43m5\u001b[39;49m\u001b[43m,\u001b[49m\u001b[43m \u001b[49m\u001b[38;5;241;43m3\u001b[39;49m\u001b[43m)\u001b[49m\n",
      "\u001b[0;31mTypeError\u001b[0m: oz() takes 2 positional arguments but 3 were given"
     ]
    }
   ],
   "source": [
    "#매개변수를 많이 입력한 경우\n",
    "def oz(message, n):\n",
    "    for i in range(n):\n",
    "        print(message)\n",
    "\n",
    "oz('oz코딩스쿨', 5, 3)"
   ]
  },
  {
   "cell_type": "code",
   "execution_count": 3,
   "metadata": {},
   "outputs": [
    {
     "name": "stdout",
     "output_type": "stream",
     "text": [
      "이렇게 많이 넣을 수 있는 방법은 2 3 쉼표로 구분해서 마구잡이로도 가능\n"
     ]
    }
   ],
   "source": [
    "print('이렇게 많이 넣을 수 있는 방법은', 2, 3, '쉼표로 구분해서 마구잡이로도 가능')"
   ]
  },
  {
   "cell_type": "code",
   "execution_count": 5,
   "metadata": {},
   "outputs": [
    {
     "name": "stdout",
     "output_type": "stream",
     "text": [
      "이렇게\n",
      "저렇게\n",
      "가변매개변수는 요렇게\n",
      "신기하다\n",
      "\n",
      "이렇게\n",
      "저렇게\n",
      "가변매개변수는 요렇게\n",
      "신기하다\n",
      "\n",
      "이렇게\n",
      "저렇게\n",
      "가변매개변수는 요렇게\n",
      "신기하다\n",
      "\n"
     ]
    }
   ],
   "source": [
    "def oz(n, *values):\n",
    "    for i in range(n):\n",
    "        for value in values:\n",
    "            print(value)\n",
    "        print()\n",
    "\n",
    "oz(3, \"이렇게\",\"저렇게\", \"가변매개변수는 요렇게\", \"신기하다\")"
   ]
  },
  {
   "cell_type": "markdown",
   "metadata": {},
   "source": [
    "단, 가변 매개변수를 사용하기 위해서는 2가지 주의할점이 있음\n",
    "* 가변 매개변수 뒤에는 일반 매개변수가 올 수 없음\n",
    "* 가변 매개변수는 하나만 사용 가능함"
   ]
  },
  {
   "cell_type": "code",
   "execution_count": 6,
   "metadata": {},
   "outputs": [
    {
     "ename": "TypeError",
     "evalue": "oz() missing 1 required keyword-only argument: 'n'",
     "output_type": "error",
     "traceback": [
      "\u001b[0;31m---------------------------------------------------------------------------\u001b[0m",
      "\u001b[0;31mTypeError\u001b[0m                                 Traceback (most recent call last)",
      "Cell \u001b[0;32mIn[6], line 7\u001b[0m\n\u001b[1;32m      4\u001b[0m             \u001b[38;5;28mprint\u001b[39m(value)\n\u001b[1;32m      5\u001b[0m         \u001b[38;5;28mprint\u001b[39m()\n\u001b[0;32m----> 7\u001b[0m \u001b[43moz\u001b[49m\u001b[43m(\u001b[49m\u001b[38;5;124;43m\"\u001b[39;49m\u001b[38;5;124;43m이렇게\u001b[39;49m\u001b[38;5;124;43m\"\u001b[39;49m\u001b[43m,\u001b[49m\u001b[38;5;124;43m\"\u001b[39;49m\u001b[38;5;124;43m저렇게\u001b[39;49m\u001b[38;5;124;43m\"\u001b[39;49m\u001b[43m,\u001b[49m\u001b[43m \u001b[49m\u001b[38;5;124;43m\"\u001b[39;49m\u001b[38;5;124;43m가변매개변수는 요렇게\u001b[39;49m\u001b[38;5;124;43m\"\u001b[39;49m\u001b[43m,\u001b[49m\u001b[43m \u001b[49m\u001b[38;5;124;43m\"\u001b[39;49m\u001b[38;5;124;43m신기하다\u001b[39;49m\u001b[38;5;124;43m\"\u001b[39;49m\u001b[43m,\u001b[49m\u001b[43m \u001b[49m\u001b[38;5;241;43m3\u001b[39;49m\u001b[43m)\u001b[49m\n",
      "\u001b[0;31mTypeError\u001b[0m: oz() missing 1 required keyword-only argument: 'n'"
     ]
    }
   ],
   "source": [
    "def oz(*values, n):\n",
    "    for i in range(n):\n",
    "        for value in values:\n",
    "            print(value)\n",
    "        print()\n",
    "\n",
    "oz(\"이렇게\",\"저렇게\", \"가변매개변수는 요렇게\", \"신기하다\", 3)"
   ]
  },
  {
   "cell_type": "markdown",
   "metadata": {},
   "source": [
    "이유는, 함수 호출 시 전달된 값에서 어디까지가 가변 매개변수이고, 어떤값이 n 식별자에 전달되는지 판단이 안되기 때문임"
   ]
  }
 ],
 "metadata": {
  "kernelspec": {
   "display_name": "Python 3",
   "language": "python",
   "name": "python3"
  },
  "language_info": {
   "codemirror_mode": {
    "name": "ipython",
    "version": 3
   },
   "file_extension": ".py",
   "mimetype": "text/x-python",
   "name": "python",
   "nbconvert_exporter": "python",
   "pygments_lexer": "ipython3",
   "version": "3.9.6"
  }
 },
 "nbformat": 4,
 "nbformat_minor": 2
}
