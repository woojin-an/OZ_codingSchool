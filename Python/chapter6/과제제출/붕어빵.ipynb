{
 "cells": [
  {
   "cell_type": "code",
   "execution_count": 21,
   "metadata": {},
   "outputs": [
    {
     "name": "stdout",
     "output_type": "stream",
     "text": [
      "감사합니다. 팥붕어빵 3개 정상적으로 주문되었습니다.\n",
      "감사합니다. 팥붕어빵 3개 정상적으로 주문되었습니다.\n",
      "팥붕어빵의 재고는 4개 입니다.\n",
      "슈크림붕어빵의 재고는 8개 입니다.\n",
      "초코붕어빵의 재고는 5개 입니다.\n",
      "총 매출: 6000원\n"
     ]
    }
   ],
   "source": [
    "class BungeoppangShop():\n",
    "    def __init__(self):\n",
    "        self.stock = {\n",
    "            \"팥붕어빵\" : 10,\n",
    "            \"슈크림붕어빵\" : 8,\n",
    "            \"초코붕어빵\" : 5\n",
    "        }\n",
    "        self.price = {\n",
    "            \"팥붕어빵\" : 1000,\n",
    "            \"슈크림붕어빵\" : 1200,\n",
    "            \"초코붕어빵\" : 1500\n",
    "        }\n",
    "        self.sales = {\n",
    "            \"팥붕어빵\" : 0,\n",
    "            \"슈크림붕어빵\" : 0,\n",
    "            \"초코붕어빵\" : 0\n",
    "        }\n",
    "\n",
    "    def check_stock(self):\n",
    "        for bread_type,bread_count in self.stock.items():\n",
    "            print(f\"{bread_type}의 재고는 {bread_count}개 입니다.\")\n",
    "\n",
    "    def process_order(self, bread_type, bread_count):\n",
    "        if bread_type in self.stock:\n",
    "            if self.stock[bread_type] >= bread_count:\n",
    "                self.stock[bread_type] -= bread_count\n",
    "                self.sales[bread_type] += bread_count\n",
    "                print(f\"감사합니다. {bread_type} {bread_count}개 정상적으로 주문되었습니다.\")\n",
    "            else:\n",
    "                print(f\"죄송합니다. {bread_type}의 재고가 부족합니다. 현재 재고: {self.stock[bread_type]}개\")\n",
    "        else:\n",
    "            print(f\"죄송합니다. {bread_type}은 판매하지 않는 붕어빵입니다.\")\n",
    "\n",
    "    def admin_mode(self, bread_type, additional_stock):\n",
    "        if bread_type in self.stock:\n",
    "            self.stock[bread_type] += additional_stock\n",
    "            print(f\"감사합니다. {bread_type} {additional_stock}개 정상적으로 추가되었습니다.\")\n",
    "        else:\n",
    "            print(f\"죄송합니다. {bread_type}은 유효하지 않은 항목입니다.\")\n",
    "\n",
    "    def calculate_total_sales(self):\n",
    "        total_sales = int()\n",
    "        for bread_type, sold_quantity in self.sales.items():\n",
    "            total_sales += sold_quantity * self.price[bread_type]\n",
    "        print(f\"총 매출: {total_sales}원\")\n",
    "\n",
    "    def main():\n",
    "        shop = BungeoppangShop()\n",
    "        while True:\n",
    "            mode = input(\"원하는 모드를 선택하세요(재고확인, 주문, 관리자, 종료): \")\n",
    "            if mode == \"종료\":\n",
    "                shop.calculate_total_sales()\n",
    "                break\n",
    "            if mode == \"주문\":\n",
    "                shop.process_order(input('주문하고자 하는 붕어빵 종류를 입력하세요(팥붕어빵/슈크림붕어빵/초코붕어빵'),int(input('주문하고자 하는 갯수를 숫자만 입력하세요.')))\n",
    "                continue\n",
    "            if mode == \"관리자\":\n",
    "                shop.admin_mode(input('추가하고자 하는 붕어빵 종류를 입력하세요(팥붕어빵/슈크림붕어빵/초코붕어빵'),int(input('추가하고자 하는 갯수를 숫자만 입력하세요.')))\n",
    "                continue\n",
    "            if mode == \"재고확인\":\n",
    "                shop.check_stock()\n",
    "                continue\n",
    "\n",
    "BungeoppangShop.main()"
   ]
  },
  {
   "cell_type": "code",
   "execution_count": null,
   "metadata": {},
   "outputs": [],
   "source": []
  }
 ],
 "metadata": {
  "kernelspec": {
   "display_name": "Python 3",
   "language": "python",
   "name": "python3"
  },
  "language_info": {
   "codemirror_mode": {
    "name": "ipython",
    "version": 3
   },
   "file_extension": ".py",
   "mimetype": "text/x-python",
   "name": "python",
   "nbconvert_exporter": "python",
   "pygments_lexer": "ipython3",
   "version": "3.9.6"
  }
 },
 "nbformat": 4,
 "nbformat_minor": 2
}
