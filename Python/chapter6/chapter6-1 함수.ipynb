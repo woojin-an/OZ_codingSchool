{
 "cells": [
  {
   "cell_type": "markdown",
   "metadata": {},
   "source": [
    "**함수 : 목적이 있는 코드의 집합**  \n",
    "\n",
    "함수의 구조\n",
    "> def 함수이름():  \n",
    "        코드"
   ]
  },
  {
   "cell_type": "code",
   "execution_count": 3,
   "metadata": {},
   "outputs": [
    {
     "name": "stdout",
     "output_type": "stream",
     "text": [
      "oz코딩스쿨\n",
      "oz코딩스쿨\n",
      "oz코딩스쿨\n",
      "oz코딩스쿨\n",
      "oz코딩스쿨\n"
     ]
    }
   ],
   "source": [
    "#함수 선언부\n",
    "def oz():\n",
    "    for i in range(5):\n",
    "        print('oz코딩스쿨')\n",
    "\n",
    "#함수 실행부\n",
    "oz()\n",
    "#함수를 호출한다고 함"
   ]
  },
  {
   "cell_type": "code",
   "execution_count": 4,
   "metadata": {},
   "outputs": [],
   "source": [
    "#print() 도 함수였다!\n",
    "# 괄호안에 들어올 값을 매개변수(parameter) 라고 함"
   ]
  },
  {
   "cell_type": "code",
   "execution_count": 9,
   "metadata": {},
   "outputs": [
    {
     "name": "stdout",
     "output_type": "stream",
     "text": [
      "오즈코딩스쿨\n",
      "오즈코딩스쿨\n",
      "오즈코딩스쿨\n",
      "오즈코딩스쿨\n",
      "오즈코딩스쿨\n"
     ]
    }
   ],
   "source": [
    "def oz(message, n):\n",
    "    for i in range(n):\n",
    "        print(message)\n",
    "    \n",
    "oz('오즈코딩스쿨', 5)"
   ]
  },
  {
   "cell_type": "markdown",
   "metadata": {},
   "source": [
    "위 코드는 oz함수에 2개의 매개변수를 받을 수 있도록 하였음\n",
    "message 와 n 이라는 식별자를 만들었음\n",
    "n은 for문에 사용되었고\n",
    "message는 print문에 사용되었음\n"
   ]
  },
  {
   "cell_type": "code",
   "execution_count": null,
   "metadata": {},
   "outputs": [],
   "source": []
  },
  {
   "cell_type": "code",
   "execution_count": null,
   "metadata": {},
   "outputs": [],
   "source": []
  }
 ],
 "metadata": {
  "kernelspec": {
   "display_name": "Python 3",
   "language": "python",
   "name": "python3"
  },
  "language_info": {
   "codemirror_mode": {
    "name": "ipython",
    "version": 3
   },
   "file_extension": ".py",
   "mimetype": "text/x-python",
   "name": "python",
   "nbconvert_exporter": "python",
   "pygments_lexer": "ipython3",
   "version": "3.9.6"
  }
 },
 "nbformat": 4,
 "nbformat_minor": 2
}
