{
 "cells": [
  {
   "cell_type": "code",
   "execution_count": null,
   "metadata": {},
   "outputs": [],
   "source": [
    "memo = {\n",
    "    1: 1,\n",
    "    2: 1,\n",
    "}\n",
    "count = 0\n",
    "\n",
    "def oz_fibo(n):\n",
    "    print(f\"피보나치 수열 {n}을 구하는 중입니다.\")\n",
    "    global count\n",
    "    count += 1\n",
    "\n",
    "    if n in memo:\n",
    "        return memo[n]\n",
    "    \n",
    "    output = oz_fibo(n-1) + oz_fibo(n-2)\n",
    "    memo[n] = output        #결과값을 memo에 저장\n",
    "    return output        \n",
    "    \n",
    "n = int(input(\"구하고자 하는 피보나치수열의 수를 입력해주세요\"))\n",
    "oz_fibo(n)\n",
    "print(f'피보나치 수열 {n}을 구하기 위해 계산된 횟수는 {count}입니다')"
   ]
  }
 ],
 "metadata": {
  "language_info": {
   "name": "python"
  }
 },
 "nbformat": 4,
 "nbformat_minor": 2
}
