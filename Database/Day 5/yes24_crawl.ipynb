{
 "cells": [
  {
   "cell_type": "markdown",
   "metadata": {},
   "source": [
    "YES24 크롤링"
   ]
  },
  {
   "cell_type": "code",
   "execution_count": null,
   "metadata": {},
   "outputs": [],
   "source": [
    "# webdriver-manager 라이브러리 불러오기\n",
    "from webdriver_manager.chrome import ChromeDriverManager\n",
    "ChromeDriverManager().install()"
   ]
  },
  {
   "cell_type": "code",
   "execution_count": null,
   "metadata": {},
   "outputs": [],
   "source": [
    "from selenium import webdriver\n",
    "browser = webdriver.Chrome()\n",
    "browser.get('https://google.com')"
   ]
  },
  {
   "cell_type": "code",
   "execution_count": null,
   "metadata": {},
   "outputs": [],
   "source": [
    "from selenium.webdriver.common.by import By\n",
    "browser.find_element(By.CLASS_NAME, 'uU7dJb').text"
   ]
  },
  {
   "cell_type": "code",
   "execution_count": null,
   "metadata": {},
   "outputs": [],
   "source": [
    "url = 'https://www.yes24.com/Product/Category/BestSeller?categoryNumber=001&pageNumber=1&pageSize=24'\n",
    "browser.get(url)    "
   ]
  },
  {
   "cell_type": "code",
   "execution_count": null,
   "metadata": {},
   "outputs": [],
   "source": [
    "# 1페이지의 링크 데이터 전부 수집\n",
    "## 한 개의 베스트 셀러 링크 수집 (1개: 요소)\n",
    "browser.find_element(By.CLASS_NAME, 'gd_name').get_attribute('href')\n",
    "\n",
    "## 여러개 (전체 베스트셀러) 수집\n",
    "datas = browser.find_elements(By.CLASS_NAME, 'gd_name') # 리스트 데이터 형태로 가져옴\n",
    "\n",
    "for i in datas:\n",
    "    print(i.get_attribute('href')) # 리스트 형태로 받은 데이터 중 링크만 print"
   ]
  },
  {
   "cell_type": "code",
   "execution_count": null,
   "metadata": {},
   "outputs": [],
   "source": [
    "# # 3페이지까지의 링크 데이터 전부 수집\n",
    "# https://www.yes24.com/Product/Category/BestSeller?categoryNumber=001&pageNumber=1&pageSize=24\n",
    "# https://www.yes24.com/Product/Category/BestSeller?categoryNumber=001&pageNumber=2&pageSize=24\n",
    "# https://www.yes24.com/Product/Category/BestSeller?categoryNumber=001&pageNumber=3&pageSize=24\n",
    "import time\n",
    "\n",
    "link_list = []\n",
    "for i in range (1,4):\n",
    "    print(f\"현재 {i}페이지 수집 중 입니다.\")\n",
    "    url = f\"https://www.yes24.com/Product/Category/BestSeller?categoryNumber=001&pageNumber={i}&pageSize=24\"\n",
    "    browser.get(url)\n",
    "\n",
    "    browser.find_element(By.CLASS_NAME, 'gd_name').get_attribute('href')\n",
    "\n",
    "    datas = browser.find_elements(By.CLASS_NAME, 'gd_name') # 리스트 데이터 형태로 가져옴\n",
    "\n",
    "    for i in datas:\n",
    "        link = i.get_attribute('href') # 리스트 형태로 받은 데이터 중 링크만 print\n",
    "        link_list.append(link)\n",
    "\n",
    "    time.sleep(3)\n"
   ]
  },
  {
   "cell_type": "code",
   "execution_count": null,
   "metadata": {},
   "outputs": [],
   "source": [
    "len(link_list)"
   ]
  },
  {
   "cell_type": "code",
   "execution_count": null,
   "metadata": {},
   "outputs": [],
   "source": [
    "# for link in link_list:\n",
    "#     # 상세페이지로 이동\n",
    "#     browser.get(link)\n",
    "\n",
    "browser.get(link_list[0])\n",
    "\n",
    "\n",
    "title = browser.find_element(By.CLASS_NAME, 'gd_name').text\n",
    "author = browser.find_element(By.CLASS_NAME, 'gd_auth').text\n",
    "publisher = browser.find_element(By.CLASS_NAME, 'gd_pub').text\n",
    "publishing = browser.find_element(By.CLASS_NAME, 'gd_date').text\n",
    "rating = browser.find_element(By.CLASS_NAME, 'yes_b').text\n",
    "reviews = browser.find_element(By.CLASS_NAME, 'txC_blue').text\n",
    "sales = browser.find_element(By.CLASS_NAME, 'gd_sellNum').text.split(\" \")[2]\n",
    "price = browser.find_element(By.CLASS_NAME, 'yes_m').text[:-1]\n",
    "ranking = browser.find_element(By.CLASS_NAME, 'gd_best').text.split(\" | \")[0]\n",
    "ranking_weeks = browser.find_element(By.CLASS_NAME, 'gd_best').text.split(\" | \")[1]\n"
   ]
  }
 ],
 "metadata": {
  "kernelspec": {
   "display_name": ".venv",
   "language": "python",
   "name": "python3"
  },
  "language_info": {
   "codemirror_mode": {
    "name": "ipython",
    "version": 3
   },
   "file_extension": ".py",
   "mimetype": "text/x-python",
   "name": "python",
   "nbconvert_exporter": "python",
   "pygments_lexer": "ipython3",
   "version": "3.12.4"
  }
 },
 "nbformat": 4,
 "nbformat_minor": 2
}
