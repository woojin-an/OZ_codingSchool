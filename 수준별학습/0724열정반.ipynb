{
 "cells": [
  {
   "cell_type": "code",
   "execution_count": 6,
   "metadata": {},
   "outputs": [
    {
     "name": "stdout",
     "output_type": "stream",
     "text": [
      "no\n"
     ]
    }
   ],
   "source": [
    "doc = str(input())\n",
    "jh = str(input())\n",
    "\n",
    "\n",
    "def count_a(input):\n",
    "    count_a = input.count('a')\n",
    "    return count_a\n",
    "\n",
    "count_a(doc)\n",
    "count_a(jh)\n",
    "\n",
    "if count_a(doc) >= count_a(jh):\n",
    "    print('go')\n",
    "else:\n",
    "    print('no')"
   ]
  },
  {
   "cell_type": "code",
   "execution_count": 13,
   "metadata": {},
   "outputs": [
    {
     "name": "stdout",
     "output_type": "stream",
     "text": [
      "5\n"
     ]
    }
   ],
   "source": [
    "def find_loop(line):\n",
    "    cnt = line.count(\"for\")\n",
    "    cnt += line.count(\"while\")\n",
    "    return cnt\n",
    "\n",
    "n = int(input())\n",
    "max = 0\n",
    "\n",
    "for i in range(n):\n",
    "    line = input()\n",
    "    count = find_loop(line)\n",
    "    if max < count:\n",
    "        max = count\n",
    "\n",
    "print(max)\n"
   ]
  },
  {
   "cell_type": "code",
   "execution_count": null,
   "metadata": {},
   "outputs": [],
   "source": []
  }
 ],
 "metadata": {
  "kernelspec": {
   "display_name": ".venv",
   "language": "python",
   "name": "python3"
  },
  "language_info": {
   "codemirror_mode": {
    "name": "ipython",
    "version": 3
   },
   "file_extension": ".py",
   "mimetype": "text/x-python",
   "name": "python",
   "nbconvert_exporter": "python",
   "pygments_lexer": "ipython3",
   "version": "3.12.4"
  }
 },
 "nbformat": 4,
 "nbformat_minor": 2
}
